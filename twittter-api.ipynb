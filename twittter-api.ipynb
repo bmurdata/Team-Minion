{
 "cells": [
  {
   "cell_type": "code",
   "execution_count": null,
   "metadata": {},
   "outputs": [],
   "source": [
    "#Commands to install required packages\n",
    "#!pip install tweepy==3.3.0\n"
   ]
  },
  {
   "cell_type": "code",
   "execution_count": 1,
   "metadata": {},
   "outputs": [],
   "source": [
    "#part 1\n",
    "import tweepy\n",
    "from tweepy import OAuthHandler\n",
    " \n",
    "consumer_key = 'BLUhWnwB3aatDeWFQA0uexECl'\n",
    "consumer_secret = 'kkHRh2V205lNvw8wE3h19L0L6kefuxWpKc2fK7dN4tg9KqDFKs'\n",
    "access_token = '1164676256262184963-BHbxcIGihlqkdIQb1mEPt7vJA0gocH'\n",
    "access_secret = 'jBKLOqyaLtV0VWpONjyWNlDJfJmcOoizilCRA27ctFTzf'\n",
    " \n",
    "auth = OAuthHandler(consumer_key, consumer_secret)\n",
    "auth.set_access_token(access_token, access_secret)\n",
    " \n",
    "api = tweepy.API(auth)"
   ]
  },
  {
   "cell_type": "code",
   "execution_count": 3,
   "metadata": {},
   "outputs": [
    {
     "name": "stdout",
     "output_type": "stream",
     "text": [
      "{\"created_at\": \"Thu Aug 22 23:34:07 +0000 2019\", \"id\": 1164682191990865920, \"id_str\": \"1164682191990865920\", \"text\": \"Just being beta\", \"truncated\": false, \"entities\": {\"hashtags\": [], \"symbols\": [], \"user_mentions\": [], \"urls\": []}, \"source\": \"<a href=\\\"https://mobile.twitter.com\\\" rel=\\\"nofollow\\\">Twitter Web App</a>\", \"in_reply_to_status_id\": null, \"in_reply_to_status_id_str\": null, \"in_reply_to_user_id\": null, \"in_reply_to_user_id_str\": null, \"in_reply_to_screen_name\": null, \"user\": {\"id\": 1164676256262184963, \"id_str\": \"1164676256262184963\", \"name\": \"B3TA_PR0GRAMM3R$\", \"screen_name\": \"B3taP\", \"location\": \"\", \"description\": \"Two betas trying to be Alphas\", \"url\": null, \"entities\": {\"description\": {\"urls\": []}}, \"protected\": false, \"followers_count\": 0, \"friends_count\": 4, \"listed_count\": 0, \"created_at\": \"Thu Aug 22 23:11:49 +0000 2019\", \"favourites_count\": 0, \"utc_offset\": null, \"time_zone\": null, \"geo_enabled\": false, \"verified\": false, \"statuses_count\": 1, \"lang\": null, \"contributors_enabled\": false, \"is_translator\": false, \"is_translation_enabled\": false, \"profile_background_color\": \"F5F8FA\", \"profile_background_image_url\": null, \"profile_background_image_url_https\": null, \"profile_background_tile\": false, \"profile_image_url\": \"http://pbs.twimg.com/profile_images/1164679885828370433/9keStfRY_normal.jpg\", \"profile_image_url_https\": \"https://pbs.twimg.com/profile_images/1164679885828370433/9keStfRY_normal.jpg\", \"profile_link_color\": \"1DA1F2\", \"profile_sidebar_border_color\": \"C0DEED\", \"profile_sidebar_fill_color\": \"DDEEF6\", \"profile_text_color\": \"333333\", \"profile_use_background_image\": true, \"has_extended_profile\": true, \"default_profile\": true, \"default_profile_image\": false, \"following\": false, \"follow_request_sent\": false, \"notifications\": false, \"translator_type\": \"none\"}, \"geo\": null, \"coordinates\": null, \"place\": null, \"contributors\": null, \"is_quote_status\": false, \"retweet_count\": 0, \"favorite_count\": 0, \"favorited\": false, \"retweeted\": false, \"lang\": \"en\"}\n",
      "{\"created_at\": \"Thu Aug 22 20:49:27 +0000 2019\", \"id\": 1164640750245744640, \"id_str\": \"1164640750245744640\", \"text\": \"Is it just me, or does the NBA official logo need some updating? https://t.co/QuBI8W0v5Y\", \"truncated\": false, \"entities\": {\"hashtags\": [], \"symbols\": [], \"user_mentions\": [], \"urls\": [], \"media\": [{\"id\": 1164640627579133959, \"id_str\": \"1164640627579133959\", \"indices\": [65, 88], \"media_url\": \"http://pbs.twimg.com/media/ECmievHXoAcbnR8.jpg\", \"media_url_https\": \"https://pbs.twimg.com/media/ECmievHXoAcbnR8.jpg\", \"url\": \"https://t.co/QuBI8W0v5Y\", \"display_url\": \"pic.twitter.com/QuBI8W0v5Y\", \"expanded_url\": \"https://twitter.com/neiltyson/status/1164640750245744640/photo/1\", \"type\": \"photo\", \"sizes\": {\"thumb\": {\"w\": 150, \"h\": 150, \"resize\": \"crop\"}, \"large\": {\"w\": 1606, \"h\": 2048, \"resize\": \"fit\"}, \"small\": {\"w\": 533, \"h\": 680, \"resize\": \"fit\"}, \"medium\": {\"w\": 941, \"h\": 1200, \"resize\": \"fit\"}}}]}, \"extended_entities\": {\"media\": [{\"id\": 1164640627579133959, \"id_str\": \"1164640627579133959\", \"indices\": [65, 88], \"media_url\": \"http://pbs.twimg.com/media/ECmievHXoAcbnR8.jpg\", \"media_url_https\": \"https://pbs.twimg.com/media/ECmievHXoAcbnR8.jpg\", \"url\": \"https://t.co/QuBI8W0v5Y\", \"display_url\": \"pic.twitter.com/QuBI8W0v5Y\", \"expanded_url\": \"https://twitter.com/neiltyson/status/1164640750245744640/photo/1\", \"type\": \"photo\", \"sizes\": {\"thumb\": {\"w\": 150, \"h\": 150, \"resize\": \"crop\"}, \"large\": {\"w\": 1606, \"h\": 2048, \"resize\": \"fit\"}, \"small\": {\"w\": 533, \"h\": 680, \"resize\": \"fit\"}, \"medium\": {\"w\": 941, \"h\": 1200, \"resize\": \"fit\"}}}]}, \"source\": \"<a href=\\\"https://about.twitter.com/products/tweetdeck\\\" rel=\\\"nofollow\\\">TweetDeck</a>\", \"in_reply_to_status_id\": null, \"in_reply_to_status_id_str\": null, \"in_reply_to_user_id\": null, \"in_reply_to_user_id_str\": null, \"in_reply_to_screen_name\": null, \"user\": {\"id\": 19725644, \"id_str\": \"19725644\", \"name\": \"Neil deGrasse Tyson\", \"screen_name\": \"neiltyson\", \"location\": \"New York City\", \"description\": \"Astrophysicist\", \"url\": \"http://t.co/FRT5oYtwbX\", \"entities\": {\"url\": {\"urls\": [{\"url\": \"http://t.co/FRT5oYtwbX\", \"expanded_url\": \"http://www.haydenplanetarium.org/tyson/\", \"display_url\": \"haydenplanetarium.org/tyson/\", \"indices\": [0, 22]}]}, \"description\": {\"urls\": []}}, \"protected\": false, \"followers_count\": 13436281, \"friends_count\": 39, \"listed_count\": 47255, \"created_at\": \"Thu Jan 29 18:40:26 +0000 2009\", \"favourites_count\": 1, \"utc_offset\": null, \"time_zone\": null, \"geo_enabled\": false, \"verified\": true, \"statuses_count\": 6192, \"lang\": null, \"contributors_enabled\": false, \"is_translator\": false, \"is_translation_enabled\": true, \"profile_background_color\": \"DBE9ED\", \"profile_background_image_url\": \"http://abs.twimg.com/images/themes/theme1/bg.png\", \"profile_background_image_url_https\": \"https://abs.twimg.com/images/themes/theme1/bg.png\", \"profile_background_tile\": false, \"profile_image_url\": \"http://pbs.twimg.com/profile_images/74188698/NeilTysonOriginsA-Crop_normal.jpg\", \"profile_image_url_https\": \"https://pbs.twimg.com/profile_images/74188698/NeilTysonOriginsA-Crop_normal.jpg\", \"profile_banner_url\": \"https://pbs.twimg.com/profile_banners/19725644/1493743287\", \"profile_link_color\": \"CC3366\", \"profile_sidebar_border_color\": \"DBE9ED\", \"profile_sidebar_fill_color\": \"E6F6F9\", \"profile_text_color\": \"333333\", \"profile_use_background_image\": true, \"has_extended_profile\": false, \"default_profile\": false, \"default_profile_image\": false, \"following\": true, \"follow_request_sent\": false, \"notifications\": false, \"translator_type\": \"none\"}, \"geo\": null, \"coordinates\": null, \"place\": null, \"contributors\": null, \"is_quote_status\": false, \"retweet_count\": 234, \"favorite_count\": 3365, \"favorited\": false, \"retweeted\": false, \"possibly_sensitive\": false, \"possibly_sensitive_appealable\": false, \"lang\": \"en\"}\n",
      "{\"created_at\": \"Thu Aug 22 20:49:00 +0000 2019\", \"id\": 1164640636219416578, \"id_str\": \"1164640636219416578\", \"text\": \"I just realized how high I\\u2019ve put people\\u2019s expectations for my videos \\ud83d\\ude02\\n\\nNext time I\\u2019ll def try to buy the island \\ud83d\\ude05\", \"truncated\": false, \"entities\": {\"hashtags\": [], \"symbols\": [], \"user_mentions\": [], \"urls\": []}, \"source\": \"<a href=\\\"http://twitter.com/download/iphone\\\" rel=\\\"nofollow\\\">Twitter for iPhone</a>\", \"in_reply_to_status_id\": 1164639446005964806, \"in_reply_to_status_id_str\": \"1164639446005964806\", \"in_reply_to_user_id\": 2455740283, \"in_reply_to_user_id_str\": \"2455740283\", \"in_reply_to_screen_name\": \"MrBeastYT\", \"user\": {\"id\": 2455740283, \"id_str\": \"2455740283\", \"name\": \"MrBeast\", \"screen_name\": \"MrBeastYT\", \"location\": \"Read My Banner\", \"description\": \"Human ATM\", \"url\": \"https://t.co/403OJQdjTU\", \"entities\": {\"url\": {\"urls\": [{\"url\": \"https://t.co/403OJQdjTU\", \"expanded_url\": \"https://shopmrbeast.com/\", \"display_url\": \"shopmrbeast.com\", \"indices\": [0, 23]}]}, \"description\": {\"urls\": []}}, \"protected\": false, \"followers_count\": 3482317, \"friends_count\": 1073, \"listed_count\": 578, \"created_at\": \"Mon Apr 21 00:28:42 +0000 2014\", \"favourites_count\": 27595, \"utc_offset\": null, \"time_zone\": null, \"geo_enabled\": true, \"verified\": true, \"statuses_count\": 2318, \"lang\": null, \"contributors_enabled\": false, \"is_translator\": false, \"is_translation_enabled\": false, \"profile_background_color\": \"000000\", \"profile_background_image_url\": \"http://abs.twimg.com/images/themes/theme9/bg.gif\", \"profile_background_image_url_https\": \"https://abs.twimg.com/images/themes/theme9/bg.gif\", \"profile_background_tile\": false, \"profile_image_url\": \"http://pbs.twimg.com/profile_images/994592419705274369/RLplF55e_normal.jpg\", \"profile_image_url_https\": \"https://pbs.twimg.com/profile_images/994592419705274369/RLplF55e_normal.jpg\", \"profile_banner_url\": \"https://pbs.twimg.com/profile_banners/2455740283/1526239358\", \"profile_link_color\": \"89C9FA\", \"profile_sidebar_border_color\": \"000000\", \"profile_sidebar_fill_color\": \"000000\", \"profile_text_color\": \"000000\", \"profile_use_background_image\": false, \"has_extended_profile\": true, \"default_profile\": false, \"default_profile_image\": false, \"following\": true, \"follow_request_sent\": false, \"notifications\": false, \"translator_type\": \"none\"}, \"geo\": null, \"coordinates\": null, \"place\": null, \"contributors\": null, \"is_quote_status\": false, \"retweet_count\": 341, \"favorite_count\": 23507, \"favorited\": false, \"retweeted\": false, \"lang\": \"en\"}\n",
      "{\"created_at\": \"Thu Aug 22 20:44:16 +0000 2019\", \"id\": 1164639446005964806, \"id_str\": \"1164639446005964806\", \"text\": \"Me - Spending 24 hours on a deserted island \\n\\nMy Comment Section - https://t.co/hXeMjYbg2Q\", \"truncated\": false, \"entities\": {\"hashtags\": [], \"symbols\": [], \"user_mentions\": [], \"urls\": [], \"media\": [{\"id\": 1164639430688366598, \"id_str\": \"1164639430688366598\", \"indices\": [67, 90], \"media_url\": \"http://pbs.twimg.com/media/ECmhZEWX4AYb5HN.jpg\", \"media_url_https\": \"https://pbs.twimg.com/media/ECmhZEWX4AYb5HN.jpg\", \"url\": \"https://t.co/hXeMjYbg2Q\", \"display_url\": \"pic.twitter.com/hXeMjYbg2Q\", \"expanded_url\": \"https://twitter.com/MrBeastYT/status/1164639446005964806/photo/1\", \"type\": \"photo\", \"sizes\": {\"thumb\": {\"w\": 150, \"h\": 150, \"resize\": \"crop\"}, \"large\": {\"w\": 827, \"h\": 241, \"resize\": \"fit\"}, \"medium\": {\"w\": 827, \"h\": 241, \"resize\": \"fit\"}, \"small\": {\"w\": 680, \"h\": 198, \"resize\": \"fit\"}}}]}, \"extended_entities\": {\"media\": [{\"id\": 1164639430688366598, \"id_str\": \"1164639430688366598\", \"indices\": [67, 90], \"media_url\": \"http://pbs.twimg.com/media/ECmhZEWX4AYb5HN.jpg\", \"media_url_https\": \"https://pbs.twimg.com/media/ECmhZEWX4AYb5HN.jpg\", \"url\": \"https://t.co/hXeMjYbg2Q\", \"display_url\": \"pic.twitter.com/hXeMjYbg2Q\", \"expanded_url\": \"https://twitter.com/MrBeastYT/status/1164639446005964806/photo/1\", \"type\": \"photo\", \"sizes\": {\"thumb\": {\"w\": 150, \"h\": 150, \"resize\": \"crop\"}, \"large\": {\"w\": 827, \"h\": 241, \"resize\": \"fit\"}, \"medium\": {\"w\": 827, \"h\": 241, \"resize\": \"fit\"}, \"small\": {\"w\": 680, \"h\": 198, \"resize\": \"fit\"}}}]}, \"source\": \"<a href=\\\"http://twitter.com/download/iphone\\\" rel=\\\"nofollow\\\">Twitter for iPhone</a>\", \"in_reply_to_status_id\": null, \"in_reply_to_status_id_str\": null, \"in_reply_to_user_id\": null, \"in_reply_to_user_id_str\": null, \"in_reply_to_screen_name\": null, \"user\": {\"id\": 2455740283, \"id_str\": \"2455740283\", \"name\": \"MrBeast\", \"screen_name\": \"MrBeastYT\", \"location\": \"Read My Banner\", \"description\": \"Human ATM\", \"url\": \"https://t.co/403OJQdjTU\", \"entities\": {\"url\": {\"urls\": [{\"url\": \"https://t.co/403OJQdjTU\", \"expanded_url\": \"https://shopmrbeast.com/\", \"display_url\": \"shopmrbeast.com\", \"indices\": [0, 23]}]}, \"description\": {\"urls\": []}}, \"protected\": false, \"followers_count\": 3482317, \"friends_count\": 1073, \"listed_count\": 578, \"created_at\": \"Mon Apr 21 00:28:42 +0000 2014\", \"favourites_count\": 27595, \"utc_offset\": null, \"time_zone\": null, \"geo_enabled\": true, \"verified\": true, \"statuses_count\": 2318, \"lang\": null, \"contributors_enabled\": false, \"is_translator\": false, \"is_translation_enabled\": false, \"profile_background_color\": \"000000\", \"profile_background_image_url\": \"http://abs.twimg.com/images/themes/theme9/bg.gif\", \"profile_background_image_url_https\": \"https://abs.twimg.com/images/themes/theme9/bg.gif\", \"profile_background_tile\": false, \"profile_image_url\": \"http://pbs.twimg.com/profile_images/994592419705274369/RLplF55e_normal.jpg\", \"profile_image_url_https\": \"https://pbs.twimg.com/profile_images/994592419705274369/RLplF55e_normal.jpg\", \"profile_banner_url\": \"https://pbs.twimg.com/profile_banners/2455740283/1526239358\", \"profile_link_color\": \"89C9FA\", \"profile_sidebar_border_color\": \"000000\", \"profile_sidebar_fill_color\": \"000000\", \"profile_text_color\": \"000000\", \"profile_use_background_image\": false, \"has_extended_profile\": true, \"default_profile\": false, \"default_profile_image\": false, \"following\": true, \"follow_request_sent\": false, \"notifications\": false, \"translator_type\": \"none\"}, \"geo\": null, \"coordinates\": null, \"place\": null, \"contributors\": null, \"is_quote_status\": false, \"retweet_count\": 1099, \"favorite_count\": 34244, \"favorited\": false, \"retweeted\": false, \"possibly_sensitive\": false, \"possibly_sensitive_appealable\": false, \"lang\": \"en\"}\n",
      "{\"created_at\": \"Thu Aug 22 19:59:33 +0000 2019\", \"id\": 1164628191069163520, \"id_str\": \"1164628191069163520\", \"text\": \"We spent 24 hours on Shark Island! Go watch!!!\", \"truncated\": false, \"entities\": {\"hashtags\": [], \"symbols\": [], \"user_mentions\": [], \"urls\": []}, \"source\": \"<a href=\\\"http://twitter.com/download/iphone\\\" rel=\\\"nofollow\\\">Twitter for iPhone</a>\", \"in_reply_to_status_id\": null, \"in_reply_to_status_id_str\": null, \"in_reply_to_user_id\": null, \"in_reply_to_user_id_str\": null, \"in_reply_to_screen_name\": null, \"user\": {\"id\": 2455740283, \"id_str\": \"2455740283\", \"name\": \"MrBeast\", \"screen_name\": \"MrBeastYT\", \"location\": \"Read My Banner\", \"description\": \"Human ATM\", \"url\": \"https://t.co/403OJQdjTU\", \"entities\": {\"url\": {\"urls\": [{\"url\": \"https://t.co/403OJQdjTU\", \"expanded_url\": \"https://shopmrbeast.com/\", \"display_url\": \"shopmrbeast.com\", \"indices\": [0, 23]}]}, \"description\": {\"urls\": []}}, \"protected\": false, \"followers_count\": 3482317, \"friends_count\": 1073, \"listed_count\": 578, \"created_at\": \"Mon Apr 21 00:28:42 +0000 2014\", \"favourites_count\": 27595, \"utc_offset\": null, \"time_zone\": null, \"geo_enabled\": true, \"verified\": true, \"statuses_count\": 2318, \"lang\": null, \"contributors_enabled\": false, \"is_translator\": false, \"is_translation_enabled\": false, \"profile_background_color\": \"000000\", \"profile_background_image_url\": \"http://abs.twimg.com/images/themes/theme9/bg.gif\", \"profile_background_image_url_https\": \"https://abs.twimg.com/images/themes/theme9/bg.gif\", \"profile_background_tile\": false, \"profile_image_url\": \"http://pbs.twimg.com/profile_images/994592419705274369/RLplF55e_normal.jpg\", \"profile_image_url_https\": \"https://pbs.twimg.com/profile_images/994592419705274369/RLplF55e_normal.jpg\", \"profile_banner_url\": \"https://pbs.twimg.com/profile_banners/2455740283/1526239358\", \"profile_link_color\": \"89C9FA\", \"profile_sidebar_border_color\": \"000000\", \"profile_sidebar_fill_color\": \"000000\", \"profile_text_color\": \"000000\", \"profile_use_background_image\": false, \"has_extended_profile\": true, \"default_profile\": false, \"default_profile_image\": false, \"following\": true, \"follow_request_sent\": false, \"notifications\": false, \"translator_type\": \"none\"}, \"geo\": null, \"coordinates\": null, \"place\": null, \"contributors\": null, \"is_quote_status\": false, \"retweet_count\": 300, \"favorite_count\": 11963, \"favorited\": false, \"retweeted\": false, \"lang\": \"en\"}\n",
      "{\"created_at\": \"Thu Aug 22 12:00:01 +0000 2019\", \"id\": 1164507513708056578, \"id_str\": \"1164507513708056578\", \"text\": \"If we want to give our kids the best chance possible to succeed after high school, we need more teachers like\\u2026 https://t.co/YNxA4ZyUgm\", \"truncated\": true, \"entities\": {\"hashtags\": [], \"symbols\": [], \"user_mentions\": [], \"urls\": [{\"url\": \"https://t.co/YNxA4ZyUgm\", \"expanded_url\": \"https://twitter.com/i/web/status/1164507513708056578\", \"display_url\": \"twitter.com/i/web/status/1\\u2026\", \"indices\": [111, 134]}]}, \"source\": \"<a href=\\\"https://www.sprinklr.com\\\" rel=\\\"nofollow\\\">Sprinklr</a>\", \"in_reply_to_status_id\": null, \"in_reply_to_status_id_str\": null, \"in_reply_to_user_id\": null, \"in_reply_to_user_id_str\": null, \"in_reply_to_screen_name\": null, \"user\": {\"id\": 50393960, \"id_str\": \"50393960\", \"name\": \"Bill Gates\", \"screen_name\": \"BillGates\", \"location\": \"Seattle, WA\", \"description\": \"Sharing things I'm learning through my foundation work and other interests.\", \"url\": \"https://t.co/AITfIziPWQ\", \"entities\": {\"url\": {\"urls\": [{\"url\": \"https://t.co/AITfIziPWQ\", \"expanded_url\": \"http://www.gatesnotes.com/\", \"display_url\": \"gatesnotes.com\", \"indices\": [0, 23]}]}, \"description\": {\"urls\": []}}, \"protected\": false, \"followers_count\": 47862537, \"friends_count\": 199, \"listed_count\": 121991, \"created_at\": \"Wed Jun 24 18:44:10 +0000 2009\", \"favourites_count\": 118, \"utc_offset\": null, \"time_zone\": null, \"geo_enabled\": false, \"verified\": true, \"statuses_count\": 3143, \"lang\": null, \"contributors_enabled\": false, \"is_translator\": false, \"is_translation_enabled\": false, \"profile_background_color\": \"C0DEED\", \"profile_background_image_url\": \"http://abs.twimg.com/images/themes/theme1/bg.png\", \"profile_background_image_url_https\": \"https://abs.twimg.com/images/themes/theme1/bg.png\", \"profile_background_tile\": false, \"profile_image_url\": \"http://pbs.twimg.com/profile_images/988775660163252226/XpgonN0X_normal.jpg\", \"profile_image_url_https\": \"https://pbs.twimg.com/profile_images/988775660163252226/XpgonN0X_normal.jpg\", \"profile_banner_url\": \"https://pbs.twimg.com/profile_banners/50393960/1556286424\", \"profile_link_color\": \"0084B4\", \"profile_sidebar_border_color\": \"000000\", \"profile_sidebar_fill_color\": \"DDEEF6\", \"profile_text_color\": \"333333\", \"profile_use_background_image\": false, \"has_extended_profile\": false, \"default_profile\": false, \"default_profile_image\": false, \"following\": true, \"follow_request_sent\": false, \"notifications\": false, \"translator_type\": \"regular\"}, \"geo\": null, \"coordinates\": null, \"place\": null, \"contributors\": null, \"is_quote_status\": false, \"retweet_count\": 336, \"favorite_count\": 3019, \"favorited\": false, \"retweeted\": false, \"possibly_sensitive\": false, \"possibly_sensitive_appealable\": false, \"lang\": \"en\"}\n",
      "{\"created_at\": \"Thu Aug 22 10:23:04 +0000 2019\", \"id\": 1164483114632003585, \"id_str\": \"1164483114632003585\", \"text\": \"RT @Teslarati: Tesla Model 3 gets Japanese car critic\\u2019s approval: \\u2018The excitement alone must be worth getting this car\\u2019\\nhttps://t.co/vraG6T\\u2026\", \"truncated\": false, \"entities\": {\"hashtags\": [], \"symbols\": [], \"user_mentions\": [{\"screen_name\": \"Teslarati\", \"name\": \"TESLARATI\", \"id\": 1308211178, \"id_str\": \"1308211178\", \"indices\": [3, 13]}], \"urls\": []}, \"source\": \"<a href=\\\"http://twitter.com/download/iphone\\\" rel=\\\"nofollow\\\">Twitter for iPhone</a>\", \"in_reply_to_status_id\": null, \"in_reply_to_status_id_str\": null, \"in_reply_to_user_id\": null, \"in_reply_to_user_id_str\": null, \"in_reply_to_screen_name\": null, \"user\": {\"id\": 44196397, \"id_str\": \"44196397\", \"name\": \"Elon Musk\", \"screen_name\": \"elonmusk\", \"location\": \"\", \"description\": \"\", \"url\": null, \"entities\": {\"description\": {\"urls\": []}}, \"protected\": false, \"followers_count\": 27919450, \"friends_count\": 77, \"listed_count\": 51057, \"created_at\": \"Tue Jun 02 20:12:29 +0000 2009\", \"favourites_count\": 3675, \"utc_offset\": null, \"time_zone\": null, \"geo_enabled\": false, \"verified\": true, \"statuses_count\": 8540, \"lang\": null, \"contributors_enabled\": false, \"is_translator\": false, \"is_translation_enabled\": false, \"profile_background_color\": \"C0DEED\", \"profile_background_image_url\": \"http://abs.twimg.com/images/themes/theme1/bg.png\", \"profile_background_image_url_https\": \"https://abs.twimg.com/images/themes/theme1/bg.png\", \"profile_background_tile\": false, \"profile_image_url\": \"http://pbs.twimg.com/profile_images/1163869972633808897/EPuBFf_K_normal.jpg\", \"profile_image_url_https\": \"https://pbs.twimg.com/profile_images/1163869972633808897/EPuBFf_K_normal.jpg\", \"profile_banner_url\": \"https://pbs.twimg.com/profile_banners/44196397/1556675519\", \"profile_link_color\": \"0084B4\", \"profile_sidebar_border_color\": \"C0DEED\", \"profile_sidebar_fill_color\": \"DDEEF6\", \"profile_text_color\": \"333333\", \"profile_use_background_image\": true, \"has_extended_profile\": true, \"default_profile\": false, \"default_profile_image\": false, \"following\": true, \"follow_request_sent\": false, \"notifications\": false, \"translator_type\": \"none\"}, \"geo\": null, \"coordinates\": null, \"place\": null, \"contributors\": null, \"retweeted_status\": {\"created_at\": \"Wed Aug 21 13:01:09 +0000 2019\", \"id\": 1164160509282869248, \"id_str\": \"1164160509282869248\", \"text\": \"Tesla Model 3 gets Japanese car critic\\u2019s approval: \\u2018The excitement alone must be worth getting this car\\u2019\\nhttps://t.co/vraG6TJ0R0\", \"truncated\": false, \"entities\": {\"hashtags\": [], \"symbols\": [], \"user_mentions\": [], \"urls\": [{\"url\": \"https://t.co/vraG6TJ0R0\", \"expanded_url\": \"https://www.teslarati.com/tesla-model-3-japan-car-critic-approval\", \"display_url\": \"teslarati.com/tesla-model-3-\\u2026\", \"indices\": [105, 128]}]}, \"source\": \"<a href=\\\"https://www.hootsuite.com\\\" rel=\\\"nofollow\\\">Hootsuite Inc.</a>\", \"in_reply_to_status_id\": null, \"in_reply_to_status_id_str\": null, \"in_reply_to_user_id\": null, \"in_reply_to_user_id_str\": null, \"in_reply_to_screen_name\": null, \"user\": {\"id\": 1308211178, \"id_str\": \"1308211178\", \"name\": \"TESLARATI\", \"screen_name\": \"Teslarati\", \"location\": \"California\", \"description\": \"Tesla, SpaceX, Elon Musk, and #FutureTech (alter-ego @teslaratiapp)\", \"url\": \"https://t.co/cAxO0Q5o3M\", \"entities\": {\"url\": {\"urls\": [{\"url\": \"https://t.co/cAxO0Q5o3M\", \"expanded_url\": \"https://www.teslarati.com/\", \"display_url\": \"teslarati.com\", \"indices\": [0, 23]}]}, \"description\": {\"urls\": []}}, \"protected\": false, \"followers_count\": 114475, \"friends_count\": 69, \"listed_count\": 824, \"created_at\": \"Wed Mar 27 18:13:53 +0000 2013\", \"favourites_count\": 3540, \"utc_offset\": null, \"time_zone\": null, \"geo_enabled\": true, \"verified\": false, \"statuses_count\": 7683, \"lang\": null, \"contributors_enabled\": false, \"is_translator\": false, \"is_translation_enabled\": false, \"profile_background_color\": \"000000\", \"profile_background_image_url\": \"http://abs.twimg.com/images/themes/theme1/bg.png\", \"profile_background_image_url_https\": \"https://abs.twimg.com/images/themes/theme1/bg.png\", \"profile_background_tile\": false, \"profile_image_url\": \"http://pbs.twimg.com/profile_images/967139929888243712/kpeiQiVn_normal.jpg\", \"profile_image_url_https\": \"https://pbs.twimg.com/profile_images/967139929888243712/kpeiQiVn_normal.jpg\", \"profile_banner_url\": \"https://pbs.twimg.com/profile_banners/1308211178/1398972972\", \"profile_link_color\": \"0084B4\", \"profile_sidebar_border_color\": \"FFFFFF\", \"profile_sidebar_fill_color\": \"DDEEF6\", \"profile_text_color\": \"333333\", \"profile_use_background_image\": true, \"has_extended_profile\": false, \"default_profile\": false, \"default_profile_image\": false, \"following\": false, \"follow_request_sent\": false, \"notifications\": false, \"translator_type\": \"none\"}, \"geo\": null, \"coordinates\": null, \"place\": null, \"contributors\": null, \"is_quote_status\": false, \"retweet_count\": 405, \"favorite_count\": 3918, \"favorited\": false, \"retweeted\": false, \"possibly_sensitive\": false, \"possibly_sensitive_appealable\": false, \"lang\": \"en\"}, \"is_quote_status\": false, \"retweet_count\": 405, \"favorite_count\": 0, \"favorited\": false, \"retweeted\": false, \"lang\": \"en\"}\n",
      "{\"created_at\": \"Thu Aug 22 02:32:33 +0000 2019\", \"id\": 1164364705520996353, \"id_str\": \"1164364705520996353\", \"text\": \"It\\u2019s been 3 months since I\\u2019ve last watched anime, that\\u2019s how you know I\\u2019ve been busy \\ud83d\\ude02\", \"truncated\": false, \"entities\": {\"hashtags\": [], \"symbols\": [], \"user_mentions\": [], \"urls\": []}, \"source\": \"<a href=\\\"http://twitter.com/download/iphone\\\" rel=\\\"nofollow\\\">Twitter for iPhone</a>\", \"in_reply_to_status_id\": null, \"in_reply_to_status_id_str\": null, \"in_reply_to_user_id\": null, \"in_reply_to_user_id_str\": null, \"in_reply_to_screen_name\": null, \"user\": {\"id\": 2455740283, \"id_str\": \"2455740283\", \"name\": \"MrBeast\", \"screen_name\": \"MrBeastYT\", \"location\": \"Read My Banner\", \"description\": \"Human ATM\", \"url\": \"https://t.co/403OJQdjTU\", \"entities\": {\"url\": {\"urls\": [{\"url\": \"https://t.co/403OJQdjTU\", \"expanded_url\": \"https://shopmrbeast.com/\", \"display_url\": \"shopmrbeast.com\", \"indices\": [0, 23]}]}, \"description\": {\"urls\": []}}, \"protected\": false, \"followers_count\": 3482317, \"friends_count\": 1073, \"listed_count\": 578, \"created_at\": \"Mon Apr 21 00:28:42 +0000 2014\", \"favourites_count\": 27595, \"utc_offset\": null, \"time_zone\": null, \"geo_enabled\": true, \"verified\": true, \"statuses_count\": 2318, \"lang\": null, \"contributors_enabled\": false, \"is_translator\": false, \"is_translation_enabled\": false, \"profile_background_color\": \"000000\", \"profile_background_image_url\": \"http://abs.twimg.com/images/themes/theme9/bg.gif\", \"profile_background_image_url_https\": \"https://abs.twimg.com/images/themes/theme9/bg.gif\", \"profile_background_tile\": false, \"profile_image_url\": \"http://pbs.twimg.com/profile_images/994592419705274369/RLplF55e_normal.jpg\", \"profile_image_url_https\": \"https://pbs.twimg.com/profile_images/994592419705274369/RLplF55e_normal.jpg\", \"profile_banner_url\": \"https://pbs.twimg.com/profile_banners/2455740283/1526239358\", \"profile_link_color\": \"89C9FA\", \"profile_sidebar_border_color\": \"000000\", \"profile_sidebar_fill_color\": \"000000\", \"profile_text_color\": \"000000\", \"profile_use_background_image\": false, \"has_extended_profile\": true, \"default_profile\": false, \"default_profile_image\": false, \"following\": true, \"follow_request_sent\": false, \"notifications\": false, \"translator_type\": \"none\"}, \"geo\": null, \"coordinates\": null, \"place\": null, \"contributors\": null, \"is_quote_status\": false, \"retweet_count\": 1502, \"favorite_count\": 49472, \"favorited\": false, \"retweeted\": false, \"lang\": \"en\"}\n",
      "{\"created_at\": \"Wed Aug 21 17:14:01 +0000 2019\", \"id\": 1164224148819849222, \"id_str\": \"1164224148819849222\", \"text\": \"Today marks three years since Nigeria's last wild poliovirus case. This progress wouldn\\u2019t have been possible withou\\u2026 https://t.co/syaeFcPLJd\", \"truncated\": true, \"entities\": {\"hashtags\": [], \"symbols\": [], \"user_mentions\": [], \"urls\": [{\"url\": \"https://t.co/syaeFcPLJd\", \"expanded_url\": \"https://twitter.com/i/web/status/1164224148819849222\", \"display_url\": \"twitter.com/i/web/status/1\\u2026\", \"indices\": [117, 140]}]}, \"source\": \"<a href=\\\"https://www.sprinklr.com\\\" rel=\\\"nofollow\\\">Sprinklr</a>\", \"in_reply_to_status_id\": null, \"in_reply_to_status_id_str\": null, \"in_reply_to_user_id\": null, \"in_reply_to_user_id_str\": null, \"in_reply_to_screen_name\": null, \"user\": {\"id\": 50393960, \"id_str\": \"50393960\", \"name\": \"Bill Gates\", \"screen_name\": \"BillGates\", \"location\": \"Seattle, WA\", \"description\": \"Sharing things I'm learning through my foundation work and other interests.\", \"url\": \"https://t.co/AITfIziPWQ\", \"entities\": {\"url\": {\"urls\": [{\"url\": \"https://t.co/AITfIziPWQ\", \"expanded_url\": \"http://www.gatesnotes.com/\", \"display_url\": \"gatesnotes.com\", \"indices\": [0, 23]}]}, \"description\": {\"urls\": []}}, \"protected\": false, \"followers_count\": 47862537, \"friends_count\": 199, \"listed_count\": 121991, \"created_at\": \"Wed Jun 24 18:44:10 +0000 2009\", \"favourites_count\": 118, \"utc_offset\": null, \"time_zone\": null, \"geo_enabled\": false, \"verified\": true, \"statuses_count\": 3143, \"lang\": null, \"contributors_enabled\": false, \"is_translator\": false, \"is_translation_enabled\": false, \"profile_background_color\": \"C0DEED\", \"profile_background_image_url\": \"http://abs.twimg.com/images/themes/theme1/bg.png\", \"profile_background_image_url_https\": \"https://abs.twimg.com/images/themes/theme1/bg.png\", \"profile_background_tile\": false, \"profile_image_url\": \"http://pbs.twimg.com/profile_images/988775660163252226/XpgonN0X_normal.jpg\", \"profile_image_url_https\": \"https://pbs.twimg.com/profile_images/988775660163252226/XpgonN0X_normal.jpg\", \"profile_banner_url\": \"https://pbs.twimg.com/profile_banners/50393960/1556286424\", \"profile_link_color\": \"0084B4\", \"profile_sidebar_border_color\": \"000000\", \"profile_sidebar_fill_color\": \"DDEEF6\", \"profile_text_color\": \"333333\", \"profile_use_background_image\": false, \"has_extended_profile\": false, \"default_profile\": false, \"default_profile_image\": false, \"following\": true, \"follow_request_sent\": false, \"notifications\": false, \"translator_type\": \"regular\"}, \"geo\": null, \"coordinates\": null, \"place\": null, \"contributors\": null, \"is_quote_status\": false, \"retweet_count\": 1902, \"favorite_count\": 10907, \"favorited\": false, \"retweeted\": false, \"possibly_sensitive\": false, \"possibly_sensitive_appealable\": false, \"lang\": \"en\"}\n",
      "{\"created_at\": \"Tue Aug 20 22:16:50 +0000 2019\", \"id\": 1163937964919070721, \"id_str\": \"1163937964919070721\", \"text\": \"Most expensive car in my lot was $12 BUT we did offer financing so thankfully we didn\\u2019t have to turn anyone away.\", \"truncated\": false, \"entities\": {\"hashtags\": [], \"symbols\": [], \"user_mentions\": [], \"urls\": []}, \"source\": \"<a href=\\\"http://twitter.com/download/iphone\\\" rel=\\\"nofollow\\\">Twitter for iPhone</a>\", \"in_reply_to_status_id\": 1163937593014312960, \"in_reply_to_status_id_str\": \"1163937593014312960\", \"in_reply_to_user_id\": 2455740283, \"in_reply_to_user_id_str\": \"2455740283\", \"in_reply_to_screen_name\": \"MrBeastYT\", \"user\": {\"id\": 2455740283, \"id_str\": \"2455740283\", \"name\": \"MrBeast\", \"screen_name\": \"MrBeastYT\", \"location\": \"Read My Banner\", \"description\": \"Human ATM\", \"url\": \"https://t.co/403OJQdjTU\", \"entities\": {\"url\": {\"urls\": [{\"url\": \"https://t.co/403OJQdjTU\", \"expanded_url\": \"https://shopmrbeast.com/\", \"display_url\": \"shopmrbeast.com\", \"indices\": [0, 23]}]}, \"description\": {\"urls\": []}}, \"protected\": false, \"followers_count\": 3482317, \"friends_count\": 1073, \"listed_count\": 578, \"created_at\": \"Mon Apr 21 00:28:42 +0000 2014\", \"favourites_count\": 27595, \"utc_offset\": null, \"time_zone\": null, \"geo_enabled\": true, \"verified\": true, \"statuses_count\": 2318, \"lang\": null, \"contributors_enabled\": false, \"is_translator\": false, \"is_translation_enabled\": false, \"profile_background_color\": \"000000\", \"profile_background_image_url\": \"http://abs.twimg.com/images/themes/theme9/bg.gif\", \"profile_background_image_url_https\": \"https://abs.twimg.com/images/themes/theme9/bg.gif\", \"profile_background_tile\": false, \"profile_image_url\": \"http://pbs.twimg.com/profile_images/994592419705274369/RLplF55e_normal.jpg\", \"profile_image_url_https\": \"https://pbs.twimg.com/profile_images/994592419705274369/RLplF55e_normal.jpg\", \"profile_banner_url\": \"https://pbs.twimg.com/profile_banners/2455740283/1526239358\", \"profile_link_color\": \"89C9FA\", \"profile_sidebar_border_color\": \"000000\", \"profile_sidebar_fill_color\": \"000000\", \"profile_text_color\": \"000000\", \"profile_use_background_image\": false, \"has_extended_profile\": true, \"default_profile\": false, \"default_profile_image\": false, \"following\": true, \"follow_request_sent\": false, \"notifications\": false, \"translator_type\": \"none\"}, \"geo\": null, \"coordinates\": null, \"place\": null, \"contributors\": null, \"is_quote_status\": false, \"retweet_count\": 1645, \"favorite_count\": 77684, \"favorited\": false, \"retweeted\": false, \"lang\": \"en\"}\n"
     ]
    }
   ],
   "source": [
    "#define process or store\n",
    "import json\n",
    "def process_or_store(tweet):\n",
    "    print(json.dumps(tweet))\n",
    "\n",
    "for status in tweepy.Cursor(api.home_timeline).items(10):\n",
    "    # Process a single status\n",
    "    process_or_store(status._json)"
   ]
  },
  {
   "cell_type": "code",
   "execution_count": null,
   "metadata": {},
   "outputs": [],
   "source": [
    "from tweepy import Stream\n",
    "from tweepy.streaming import StreamListener\n",
    " \n",
    "class MyListener(StreamListener):\n",
    " \n",
    "    def on_data(self, data):\n",
    "        try:\n",
    "            with open('python.json', 'a') as f:\n",
    "                f.write(data)\n",
    "                return True\n",
    "        except BaseException as e:\n",
    "            print(\"Error on_data: %s\" % str(e))\n",
    "        return True\n",
    " \n",
    "    def on_error(self, status):\n",
    "        print(status)\n",
    "        return True\n",
    "twitter_stream = Stream(auth, MyListener())\n",
    "twitter_stream.filter(track=['#python'])"
   ]
  },
  {
   "cell_type": "code",
   "execution_count": null,
   "metadata": {},
   "outputs": [],
   "source": [
    "#Part 2\n",
    "#After storing tweets as a JSON\n",
    "import json\n",
    "\n",
    "with open('mytweets.json', 'r') as f:\n",
    "    line = f.readline() # read only the first tweet/line\n",
    "    tweet = json.loads(line) # load it as Python dict\n",
    "    print(json.dumps(tweet, indent=4)) # pretty-print"
   ]
  },
  {
   "cell_type": "code",
   "execution_count": null,
   "metadata": {},
   "outputs": [],
   "source": [
    "#Tokenize\n",
    "from nltk.tokenize import word_tokenize\n",
    " \n",
    "tweet = 'RT @marcobonzanini: just an example! :D http://example.com #NLP'\n",
    "print(word_tokenize(tweet))\n",
    "# ['RT', '@', 'marcobonzanini', ':', 'just', 'an', 'example', '!', ':', 'D', 'http', ':', '//example.com', '#', 'NLP']"
   ]
  },
  {
   "cell_type": "code",
   "execution_count": null,
   "metadata": {},
   "outputs": [],
   "source": [
    "#Text Preprocessing\n",
    "import re\n",
    " \n",
    "emoticons_str = r\"\"\"\n",
    "    (?:\n",
    "        [:=;] # Eyes\n",
    "        [oO\\-]? # Nose (optional)\n",
    "        [D\\)\\]\\(\\]/\\\\OpP] # Mouth\n",
    "    )\"\"\"\n",
    " \n",
    "regex_str = [\n",
    "    emoticons_str,\n",
    "    r'<[^>]+>', # HTML tags\n",
    "    r'(?:@[\\w_]+)', # @-mentions\n",
    "    r\"(?:\\#+[\\w_]+[\\w\\'_\\-]*[\\w_]+)\", # hash-tags\n",
    "    r'http[s]?://(?:[a-z]|[0-9]|[$-_@.&amp;+]|[!*\\(\\),]|(?:%[0-9a-f][0-9a-f]))+', # URLs\n",
    " \n",
    "    r'(?:(?:\\d+,?)+(?:\\.?\\d+)?)', # numbers\n",
    "    r\"(?:[a-z][a-z'\\-_]+[a-z])\", # words with - and '\n",
    "    r'(?:[\\w_]+)', # other words\n",
    "    r'(?:\\S)' # anything else\n",
    "]\n",
    "    \n",
    "tokens_re = re.compile(r'('+'|'.join(regex_str)+')', re.VERBOSE | re.IGNORECASE)\n",
    "emoticon_re = re.compile(r'^'+emoticons_str+'$', re.VERBOSE | re.IGNORECASE)\n",
    " \n",
    "def tokenize(s):\n",
    "    return tokens_re.findall(s)\n",
    " \n",
    "def preprocess(s, lowercase=False):\n",
    "    tokens = tokenize(s)\n",
    "    if lowercase:\n",
    "        tokens = [token if emoticon_re.search(token) else token.lower() for token in tokens]\n",
    "    return tokens\n",
    " \n",
    "tweet = 'RT @marcobonzanini: just an example! :D http://example.com #NLP'\n",
    "print(preprocess(tweet))\n",
    "# ['RT', '@marcobonzanini', ':', 'just', 'an', 'example', '!', ':D', 'http://example.com', '#NLP']"
   ]
  },
  {
   "cell_type": "code",
   "execution_count": null,
   "metadata": {},
   "outputs": [],
   "source": [
    "#process all the tweets do something needs to be defined\n",
    "def do_something_else(token):\n",
    "    print(json.dumps(token))\n",
    "\n",
    "with open('mytweets.json', 'r') as f:\n",
    "    for line in f:\n",
    "        tweet = json.loads(line)\n",
    "        tokens = preprocess(tweet['text'])\n",
    "        do_something_else(tokens)"
   ]
  },
  {
   "cell_type": "code",
   "execution_count": null,
   "metadata": {},
   "outputs": [],
   "source": [
    "#Part 3 count terms-basic, first iteration\n",
    "import operator \n",
    "from collections import Counter\n",
    " \n",
    "fname = 'mytweets.json'\n",
    "with open(fname, 'r') as f:\n",
    "    \n",
    "    count_all = Counter()\n",
    "    for line in f:\n",
    "        tweet = json.loads(line)\n",
    "        # Create a list with all the terms\n",
    "        terms_all = [term for term in preprocess(tweet['text'])]\n",
    "        # Update the counter\n",
    "        count_all.update(terms_all)\n",
    "    # Print the first 5 most frequent words\n",
    "    print(count_all.most_common(5))"
   ]
  },
  {
   "cell_type": "code",
   "execution_count": null,
   "metadata": {},
   "outputs": [],
   "source": [
    "#Find stop words\n",
    "from nltk.corpus import stopwords\n",
    "import string\n",
    " \n",
    "punctuation = list(string.punctuation)\n",
    "stop = stopwords.words('english') + punctuation + ['rt', 'via']"
   ]
  },
  {
   "cell_type": "code",
   "execution_count": null,
   "metadata": {},
   "outputs": [],
   "source": [
    "#Same as two cells up but with terms_stop instead of terms_all \n",
    "fname = 'mytweets.json'\n",
    "with open(fname, 'r') as f:\n",
    "    \n",
    "    count_all = Counter()\n",
    "    for line in f:\n",
    "        tweet = json.loads(line)\n",
    "        # Create a list with all the terms\n",
    "        terms_stop = [term for term in preprocess(tweet['text']) if term not in stop]        # Update the counter\n",
    "        count_all.update(terms_stop)\n",
    "    # Print the first 5 most frequent words\n",
    "    print(count_all.most_common(5))from collections import Counter"
   ]
  },
  {
   "cell_type": "code",
   "execution_count": null,
   "metadata": {},
   "outputs": [],
   "source": [
    " #Customize terms and tokens\n",
    "fname = 'mytweets.json'\n",
    "with open(fname, 'r') as f:\n",
    "    \n",
    "    count_all = Counter()\n",
    "    for line in f:\n",
    "        tweet = json.loads(line)\n",
    "        # Create a list with all the terms\n",
    "        terms_stop = [term for term in preprocess(tweet['text']) if term not in stop]        # Update the counter\n",
    "        count_all.update(terms_stop)\n",
    "    # Print the first 5 most frequent words\n",
    "    print(count_all.most_common(5))\n",
    "    # Count terms only once, equivalent to Document Frequency\n",
    "terms_single = set(terms_all)\n",
    "# Count hashtags only\n",
    "terms_hash = [term for term in preprocess(tweet['text']) \n",
    "              if term.startswith('#')]\n",
    "# Count terms only (no hashtags, no mentions)\n",
    "terms_only = [term for term in preprocess(tweet['text']) \n",
    "              if term not in stop and\n",
    "              not term.startswith(('#', '@'))] \n",
    "              # mind the ((double brackets))\n",
    "              # startswith() takes a tuple (not a list) if \n",
    "              # we pass a list of inputs"
   ]
  },
  {
   "cell_type": "code",
   "execution_count": null,
   "metadata": {},
   "outputs": [],
   "source": [
    "#refactor of co-occurence matrix\n",
    "from collections import defaultdict\n",
    "# remember to include the other import from the previous post\n",
    " \n",
    "com = defaultdict(lambda : defaultdict(int))\n",
    " \n",
    "# f is the file pointer to the JSON data set\n",
    "for line in f: \n",
    "    tweet = json.loads(line)\n",
    "    terms_only = [term for term in preprocess(tweet['text']) \n",
    "                  if term not in stop \n",
    "                  and not term.startswith(('#', '@'))]\n",
    " \n",
    "    # Build co-occurrence matrix\n",
    "    for i in range(len(terms_only)-1):            \n",
    "        for j in range(i+1, len(terms_only)):\n",
    "            w1, w2 = sorted([terms_only[i], terms_only[j]])                \n",
    "            if w1 != w2:\n",
    "                com[w1][w2] += 1"
   ]
  },
  {
   "cell_type": "code",
   "execution_count": null,
   "metadata": {},
   "outputs": [],
   "source": [
    "com_max = []\n",
    "# For each term, look for the most common co-occurrent terms\n",
    "for t1 in com:\n",
    "    t1_max_terms = sorted(com[t1].items(), key=operator.itemgetter(1), reverse=True)[:5]\n",
    "    for t2, t2_count in t1_max_terms:\n",
    "        com_max.append(((t1, t2), t2_count))\n",
    "# Get the most frequent co-occurrences\n",
    "terms_max = sorted(com_max, key=operator.itemgetter(1), reverse=True)\n",
    "print(terms_max[:5])"
   ]
  },
  {
   "cell_type": "code",
   "execution_count": null,
   "metadata": {},
   "outputs": [],
   "source": [
    "search_word = sys.argv[1] # pass a term as a command-line argument\n",
    "count_search = Counter()\n",
    "for line in f:\n",
    "    tweet = json.loads(line)\n",
    "    terms_only = [term for term in preprocess(tweet['text']) \n",
    "                  if term not in stop \n",
    "                  and not term.startswith(('#', '@'))]\n",
    "    if search_word in terms_only:\n",
    "        count_search.update(terms_only)\n",
    "print(\"Co-occurrence for %s:\" % search_word)\n",
    "print(count_search.most_common(20))"
   ]
  },
  {
   "cell_type": "code",
   "execution_count": null,
   "metadata": {},
   "outputs": [],
   "source": [
    "#Part 5 deals with Vincent, which is deprecated. Will therefore not copy"
   ]
  },
  {
   "cell_type": "code",
   "execution_count": null,
   "metadata": {},
   "outputs": [],
   "source": [
    "import pandas\n",
    "\n",
    " \n",
    "dates_ITAvWAL = []\n",
    "# f is the file pointer to the JSON data set\n",
    "for line in f:\n",
    "    tweet = json.loads(line)\n",
    "    # let's focus on hashtags only at the moment\n",
    "    terms_hash = [term for term in preprocess(tweet['text']) if term.startswith('#')]\n",
    "    # track when the hashtag is mentioned\n",
    "    if '#itavwal' in terms_hash:\n",
    "        dates_ITAvWAL.append(tweet['created_at'])\n",
    " \n",
    "# a list of \"1\" to count the hashtags\n",
    "ones = [1]*len(dates_ITAvWAL)\n",
    "# the index of the series\n",
    "idx = pandas.DatetimeIndex(dates_ITAvWAL)\n",
    "# the actual series (at series of 1s for the moment)\n",
    "ITAvWAL = pandas.Series(ones, index=idx)\n",
    " \n",
    "# Resampling / bucketing\n",
    "per_minute = ITAvWAL.resample('1Min', how='sum').fillna(0)"
   ]
  },
  {
   "cell_type": "code",
   "execution_count": null,
   "metadata": {},
   "outputs": [],
   "source": [
    "#Positive and Negative Terms\n",
    "positive_vocab = [\n",
    "    'good', 'nice', 'great', 'awesome', 'outstanding',\n",
    "    'fantastic', 'terrific', ':)', ':-)', 'like', 'love',\n",
    "    # shall we also include game-specific terms?\n",
    "    # 'triumph', 'triumphal', 'triumphant', 'victory', etc.\n",
    "]\n",
    "negative_vocab = [\n",
    "    'bad', 'terrible', 'crap', 'useless', 'hate', ':(', ':-(',\n",
    "    # 'defeat', etc.\n",
    "]"
   ]
  },
  {
   "cell_type": "code",
   "execution_count": null,
   "metadata": {},
   "outputs": [],
   "source": [
    "pmi = defaultdict(lambda : defaultdict(int))\n",
    "for t1 in p_t:\n",
    "    for t2 in com[t1]:\n",
    "        denom = p_t[t1] * p_t[t2]\n",
    "        pmi[t1][t2] = math.log2(p_t_com[t1][t2] / denom)\n",
    " \n",
    "semantic_orientation = {}\n",
    "for term, n in p_t.items():\n",
    "    positive_assoc = sum(pmi[term][tx] for tx in positive_vocab)\n",
    "    negative_assoc = sum(pmi[term][tx] for tx in negative_vocab)\n",
    "    semantic_orientation[term] = positive_assoc - negative_assoc"
   ]
  },
  {
   "cell_type": "code",
   "execution_count": null,
   "metadata": {},
   "outputs": [],
   "source": [
    "semantic_sorted = sorted(semantic_orientation.items(), \n",
    "                         key=operator.itemgetter(1), \n",
    "                         reverse=True)\n",
    "top_pos = semantic_sorted[:10]\n",
    "top_neg = semantic_sorted[-10:]\n",
    " \n",
    "print(top_pos)\n",
    "print(top_neg)\n",
    "print(\"ITA v WAL: %f\" % semantic_orientation['#itavwal'])\n",
    "print(\"SCO v IRE: %f\" % semantic_orientation['#scovire'])\n",
    "print(\"ENG v FRA: %f\" % semantic_orientation['#engvfra'])\n",
    "print(\"#ITA: %f\" % semantic_orientation['#ita'])\n",
    "print(\"#FRA: %f\" % semantic_orientation['#fra'])\n",
    "print(\"#SCO: %f\" % semantic_orientation['#sco'])\n",
    "print(\"#ENG: %f\" % semantic_orientation['#eng'])\n",
    "print(\"#WAL: %f\" % semantic_orientation['#wal'])\n",
    "print(\"#IRE: %f\" % semantic_orientation['#ire'])"
   ]
  },
  {
   "cell_type": "code",
   "execution_count": null,
   "metadata": {},
   "outputs": [],
   "source": [
    "# Tweets are stored in \"fname\"\n",
    "with open(fname, 'r') as f:\n",
    "    geo_data = {\n",
    "        \"type\": \"FeatureCollection\",\n",
    "        \"features\": []\n",
    "    }\n",
    "    for line in f:\n",
    "        tweet = json.loads(line)\n",
    "        if tweet['coordinates']:\n",
    "            geo_json_feature = {\n",
    "                \"type\": \"Feature\",\n",
    "                \"geometry\": tweet['coordinates'],\n",
    "                \"properties\": {\n",
    "                    \"text\": tweet['text'],\n",
    "                    \"created_at\": tweet['created_at']\n",
    "                }\n",
    "            }\n",
    "            geo_data['features'].append(geo_json_feature)\n",
    " \n",
    "# Save geo data\n",
    "with open('geo_data.json', 'w') as fout:\n",
    "    fout.write(json.dumps(geo_data, indent=4))"
   ]
  },
  {
   "cell_type": "code",
   "execution_count": null,
   "metadata": {},
   "outputs": [],
   "source": [
    "#Leaflet.js to be put in head of document. also seems to be for html stuff\n",
    "<link rel=\"stylesheet\" href=\"http://cdnjs.cloudflare.com/ajax/libs/leaflet/0.7.3/leaflet.css\" />\n",
    "<script src=\"http://cdnjs.cloudflare.com/ajax/libs/leaflet/0.7.3/leaflet.js\"></script>\n",
    "<script src=\"http://code.jquery.com/jquery-2.1.0.min.js\"></script>\n",
    "<!-- this goes in the <head> -->\n",
    "<style>\n",
    "#map {\n",
    "    height: 600px;\n",
    "}\n",
    "</style>\n",
    "<!-- this goes in the <body> -->\n",
    "<div id=\"map\"></div>"
   ]
  },
  {
   "cell_type": "code",
   "execution_count": null,
   "metadata": {},
   "outputs": [],
   "source": [
    "// Load the tile images from OpenStreetMap\n",
    "var mytiles = L.tileLayer('http://{s}.tile.osm.org/{z}/{x}/{y}.png', {\n",
    "    attribution: '&copy; <a href=\"http://osm.org/copyright\">OpenStreetMap</a> contributors'\n",
    "});\n",
    "// Initialise an empty map\n",
    "var map = L.map('map');\n",
    "// Read the GeoJSON data with jQuery, and create a circleMarker element for each tweet\n",
    "// Each tweet will be represented by a nice red dot\n",
    "$.getJSON(\"./geo_data.json\", function(data) {\n",
    "    var myStyle = {\n",
    "        radius: 2,\n",
    "        fillColor: \"red\",\n",
    "        color: \"red\",\n",
    "        weight: 1,\n",
    "        opacity: 1,\n",
    "        fillOpacity: 1\n",
    "    };\n",
    " \n",
    "    var geojson = L.geoJson(data, {\n",
    "        pointToLayer: function (feature, latlng) {\n",
    "            return L.circleMarker(latlng, myStyle);\n",
    "        }\n",
    "    });\n",
    "    geojson.addTo(map)\n",
    "});\n",
    "// Add the tiles to the map, and initialise the view in the middle of Europe\n",
    "map.addLayer(mytiles).setView([50.5, 5.0], 5);"
   ]
  }
 ],
 "metadata": {
  "kernelspec": {
   "display_name": "Python 3",
   "language": "python",
   "name": "python3"
  },
  "language_info": {
   "codemirror_mode": {
    "name": "ipython",
    "version": 3
   },
   "file_extension": ".py",
   "mimetype": "text/x-python",
   "name": "python",
   "nbconvert_exporter": "python",
   "pygments_lexer": "ipython3",
   "version": "3.7.4"
  }
 },
 "nbformat": 4,
 "nbformat_minor": 2
}

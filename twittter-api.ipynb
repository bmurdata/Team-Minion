{
 "cells": [
  {
   "cell_type": "code",
   "execution_count": null,
   "metadata": {},
   "outputs": [],
   "source": [
    "#Commands to install required packages\n",
    "#!pip install tweepy==3.3.0\n"
   ]
  },
  {
   "cell_type": "code",
   "execution_count": 1,
   "metadata": {},
   "outputs": [],
   "source": [
    "#part 1\n",
    "import tweepy\n",
    "from tweepy import OAuthHandler\n",
    " \n",
    "consumer_key = 'BLUhWnwB3aatDeWFQA0uexECl'\n",
    "consumer_secret = 'kkHRh2V205lNvw8wE3h19L0L6kefuxWpKc2fK7dN4tg9KqDFKs'\n",
    "access_token = '1164676256262184963-BHbxcIGihlqkdIQb1mEPt7vJA0gocH'\n",
    "access_secret = 'jBKLOqyaLtV0VWpONjyWNlDJfJmcOoizilCRA27ctFTzf'\n",
    " \n",
    "auth = OAuthHandler(consumer_key, consumer_secret)\n",
    "auth.set_access_token(access_token, access_secret)\n",
    " \n",
    "api = tweepy.API(auth)"
   ]
  },
  {
   "cell_type": "code",
   "execution_count": 2,
   "metadata": {},
   "outputs": [
    {
     "name": "stdout",
     "output_type": "stream",
     "text": [
      "{\"created_at\": \"Thu Aug 29 00:06:01 +0000 2019\", \"id\": 1166864545580822533, \"id_str\": \"1166864545580822533\", \"text\": \"Experience the International Astronautical Congress \\u2014 with us! On Oct 25, 2019, go behind-the-scenes at a\\u2026 https://t.co/BYnkkmr8hT\", \"truncated\": true, \"entities\": {\"hashtags\": [], \"symbols\": [], \"user_mentions\": [], \"urls\": [{\"url\": \"https://t.co/BYnkkmr8hT\", \"expanded_url\": \"https://twitter.com/i/web/status/1166864545580822533\", \"display_url\": \"twitter.com/i/web/status/1\\u2026\", \"indices\": [107, 130]}]}, \"source\": \"<a href=\\\"https://www.sprinklr.com\\\" rel=\\\"nofollow\\\">Sprinklr</a>\", \"in_reply_to_status_id\": null, \"in_reply_to_status_id_str\": null, \"in_reply_to_user_id\": null, \"in_reply_to_user_id_str\": null, \"in_reply_to_screen_name\": null, \"user\": {\"id\": 11348282, \"id_str\": \"11348282\", \"name\": \"NASA\", \"screen_name\": \"NASA\", \"location\": \"\", \"description\": \"Explore the universe and discover our home planet with @NASA. We usually post in EDT (UTC-4)\", \"url\": \"https://t.co/TcEE6NS8nD\", \"entities\": {\"url\": {\"urls\": [{\"url\": \"https://t.co/TcEE6NS8nD\", \"expanded_url\": \"http://www.nasa.gov\", \"display_url\": \"nasa.gov\", \"indices\": [0, 23]}]}, \"description\": {\"urls\": []}}, \"protected\": false, \"followers_count\": 32499466, \"friends_count\": 298, \"listed_count\": 94067, \"created_at\": \"Wed Dec 19 20:20:32 +0000 2007\", \"favourites_count\": 6604, \"utc_offset\": null, \"time_zone\": null, \"geo_enabled\": false, \"verified\": true, \"statuses_count\": 57028, \"lang\": null, \"contributors_enabled\": false, \"is_translator\": false, \"is_translation_enabled\": false, \"profile_background_color\": \"000000\", \"profile_background_image_url\": \"http://abs.twimg.com/images/themes/theme1/bg.png\", \"profile_background_image_url_https\": \"https://abs.twimg.com/images/themes/theme1/bg.png\", \"profile_background_tile\": false, \"profile_image_url\": \"http://pbs.twimg.com/profile_images/1091070803184177153/TI2qItoi_normal.jpg\", \"profile_image_url_https\": \"https://pbs.twimg.com/profile_images/1091070803184177153/TI2qItoi_normal.jpg\", \"profile_banner_url\": \"https://pbs.twimg.com/profile_banners/11348282/1564146425\", \"profile_link_color\": \"205BA7\", \"profile_sidebar_border_color\": \"000000\", \"profile_sidebar_fill_color\": \"F3F2F2\", \"profile_text_color\": \"000000\", \"profile_use_background_image\": true, \"has_extended_profile\": true, \"default_profile\": false, \"default_profile_image\": false, \"following\": true, \"follow_request_sent\": false, \"notifications\": false, \"translator_type\": \"regular\"}, \"geo\": null, \"coordinates\": null, \"place\": null, \"contributors\": null, \"is_quote_status\": false, \"retweet_count\": 69, \"favorite_count\": 433, \"favorited\": false, \"retweeted\": false, \"possibly_sensitive\": false, \"possibly_sensitive_appealable\": false, \"lang\": \"en\"}\n",
      "{\"created_at\": \"Wed Aug 28 22:40:47 +0000 2019\", \"id\": 1166843095423574016, \"id_str\": \"1166843095423574016\", \"text\": \"Also, u can order online at https://t.co/46TXqRJ3C1 in 2 mins, have car delivered to ur doorstep &amp; return for full\\u2026 https://t.co/fND3l9Edds\", \"truncated\": true, \"entities\": {\"hashtags\": [], \"symbols\": [], \"user_mentions\": [], \"urls\": [{\"url\": \"https://t.co/46TXqRJ3C1\", \"expanded_url\": \"http://Tesla.com\", \"display_url\": \"Tesla.com\", \"indices\": [28, 51]}, {\"url\": \"https://t.co/fND3l9Edds\", \"expanded_url\": \"https://twitter.com/i/web/status/1166843095423574016\", \"display_url\": \"twitter.com/i/web/status/1\\u2026\", \"indices\": [120, 143]}]}, \"source\": \"<a href=\\\"http://twitter.com/download/iphone\\\" rel=\\\"nofollow\\\">Twitter for iPhone</a>\", \"in_reply_to_status_id\": null, \"in_reply_to_status_id_str\": null, \"in_reply_to_user_id\": null, \"in_reply_to_user_id_str\": null, \"in_reply_to_screen_name\": null, \"user\": {\"id\": 44196397, \"id_str\": \"44196397\", \"name\": \"Elon Musk\", \"screen_name\": \"elonmusk\", \"location\": \"\", \"description\": \"\", \"url\": null, \"entities\": {\"description\": {\"urls\": []}}, \"protected\": false, \"followers_count\": 27991659, \"friends_count\": 78, \"listed_count\": 51137, \"created_at\": \"Tue Jun 02 20:12:29 +0000 2009\", \"favourites_count\": 3723, \"utc_offset\": null, \"time_zone\": null, \"geo_enabled\": false, \"verified\": true, \"statuses_count\": 8590, \"lang\": null, \"contributors_enabled\": false, \"is_translator\": false, \"is_translation_enabled\": false, \"profile_background_color\": \"C0DEED\", \"profile_background_image_url\": \"http://abs.twimg.com/images/themes/theme1/bg.png\", \"profile_background_image_url_https\": \"https://abs.twimg.com/images/themes/theme1/bg.png\", \"profile_background_tile\": false, \"profile_image_url\": \"http://pbs.twimg.com/profile_images/1163869972633808897/EPuBFf_K_normal.jpg\", \"profile_image_url_https\": \"https://pbs.twimg.com/profile_images/1163869972633808897/EPuBFf_K_normal.jpg\", \"profile_banner_url\": \"https://pbs.twimg.com/profile_banners/44196397/1556675519\", \"profile_link_color\": \"0084B4\", \"profile_sidebar_border_color\": \"C0DEED\", \"profile_sidebar_fill_color\": \"DDEEF6\", \"profile_text_color\": \"333333\", \"profile_use_background_image\": true, \"has_extended_profile\": true, \"default_profile\": false, \"default_profile_image\": false, \"following\": true, \"follow_request_sent\": false, \"notifications\": false, \"translator_type\": \"none\"}, \"geo\": null, \"coordinates\": null, \"place\": null, \"contributors\": null, \"is_quote_status\": true, \"quoted_status_id\": 1166596870438866944, \"quoted_status_id_str\": \"1166596870438866944\", \"quoted_status\": {\"created_at\": \"Wed Aug 28 06:22:22 +0000 2019\", \"id\": 1166596870438866944, \"id_str\": \"1166596870438866944\", \"text\": \"The Tesla Buying Experience Is 10\\u00d7 Nicer Than The Auto Dealer Buying\\u00a0Experience https://t.co/wgMsiRMdn7 https://t.co/jlqiaBFFPT\", \"truncated\": false, \"entities\": {\"hashtags\": [], \"symbols\": [], \"user_mentions\": [], \"urls\": [{\"url\": \"https://t.co/wgMsiRMdn7\", \"expanded_url\": \"https://cleantechnica.com/2019/08/28/the-tesla-buying-experience-is-10x-nicer-than-the-auto-dealer-buying-experience/\", \"display_url\": \"cleantechnica.com/2019/08/28/the\\u2026\", \"indices\": [80, 103]}], \"media\": [{\"id\": 1166596868895322113, \"id_str\": \"1166596868895322113\", \"indices\": [104, 127], \"media_url\": \"http://pbs.twimg.com/media/EDCVq96WsAET2Qt.jpg\", \"media_url_https\": \"https://pbs.twimg.com/media/EDCVq96WsAET2Qt.jpg\", \"url\": \"https://t.co/jlqiaBFFPT\", \"display_url\": \"pic.twitter.com/jlqiaBFFPT\", \"expanded_url\": \"https://twitter.com/cleantechnica/status/1166596870438866944/photo/1\", \"type\": \"photo\", \"sizes\": {\"thumb\": {\"w\": 150, \"h\": 150, \"resize\": \"crop\"}, \"medium\": {\"w\": 1024, \"h\": 768, \"resize\": \"fit\"}, \"large\": {\"w\": 1024, \"h\": 768, \"resize\": \"fit\"}, \"small\": {\"w\": 680, \"h\": 510, \"resize\": \"fit\"}}}]}, \"extended_entities\": {\"media\": [{\"id\": 1166596868895322113, \"id_str\": \"1166596868895322113\", \"indices\": [104, 127], \"media_url\": \"http://pbs.twimg.com/media/EDCVq96WsAET2Qt.jpg\", \"media_url_https\": \"https://pbs.twimg.com/media/EDCVq96WsAET2Qt.jpg\", \"url\": \"https://t.co/jlqiaBFFPT\", \"display_url\": \"pic.twitter.com/jlqiaBFFPT\", \"expanded_url\": \"https://twitter.com/cleantechnica/status/1166596870438866944/photo/1\", \"type\": \"photo\", \"sizes\": {\"thumb\": {\"w\": 150, \"h\": 150, \"resize\": \"crop\"}, \"medium\": {\"w\": 1024, \"h\": 768, \"resize\": \"fit\"}, \"large\": {\"w\": 1024, \"h\": 768, \"resize\": \"fit\"}, \"small\": {\"w\": 680, \"h\": 510, \"resize\": \"fit\"}}}]}, \"source\": \"<a href=\\\"http://publicize.wp.com/\\\" rel=\\\"nofollow\\\">WordPress.com</a>\", \"in_reply_to_status_id\": null, \"in_reply_to_status_id_str\": null, \"in_reply_to_user_id\": null, \"in_reply_to_user_id_str\": null, \"in_reply_to_screen_name\": null, \"user\": {\"id\": 17060015, \"id_str\": \"17060015\", \"name\": \"CleanTechnica\", \"screen_name\": \"cleantechnica\", \"location\": \"\", \"description\": \"World's #1 cleantech & clean energy website. Solar energy, wind energy, electric vehicles, & more. For tweeting commentary, see site director @zshahan3\", \"url\": \"http://t.co/xWehwh1qy0\", \"entities\": {\"url\": {\"urls\": [{\"url\": \"http://t.co/xWehwh1qy0\", \"expanded_url\": \"http://cleantechnica.com\", \"display_url\": \"cleantechnica.com\", \"indices\": [0, 22]}]}, \"description\": {\"urls\": []}}, \"protected\": false, \"followers_count\": 100471, \"friends_count\": 141, \"listed_count\": 2440, \"created_at\": \"Thu Oct 30 04:29:39 +0000 2008\", \"favourites_count\": 2612, \"utc_offset\": null, \"time_zone\": null, \"geo_enabled\": false, \"verified\": false, \"statuses_count\": 42143, \"lang\": null, \"contributors_enabled\": false, \"is_translator\": false, \"is_translation_enabled\": false, \"profile_background_color\": \"424142\", \"profile_background_image_url\": \"http://abs.twimg.com/images/themes/theme1/bg.png\", \"profile_background_image_url_https\": \"https://abs.twimg.com/images/themes/theme1/bg.png\", \"profile_background_tile\": false, \"profile_image_url\": \"http://pbs.twimg.com/profile_images/1093738345052569600/vckkGshd_normal.jpg\", \"profile_image_url_https\": \"https://pbs.twimg.com/profile_images/1093738345052569600/vckkGshd_normal.jpg\", \"profile_banner_url\": \"https://pbs.twimg.com/profile_banners/17060015/1549602786\", \"profile_link_color\": \"1597C2\", \"profile_sidebar_border_color\": \"FFFFFF\", \"profile_sidebar_fill_color\": \"DDEEF6\", \"profile_text_color\": \"333333\", \"profile_use_background_image\": false, \"has_extended_profile\": false, \"default_profile\": false, \"default_profile_image\": false, \"following\": false, \"follow_request_sent\": false, \"notifications\": false, \"translator_type\": \"none\"}, \"geo\": null, \"coordinates\": null, \"place\": null, \"contributors\": null, \"is_quote_status\": false, \"retweet_count\": 29, \"favorite_count\": 254, \"favorited\": false, \"retweeted\": false, \"possibly_sensitive\": false, \"possibly_sensitive_appealable\": false, \"lang\": \"en\"}, \"retweet_count\": 643, \"favorite_count\": 5943, \"favorited\": false, \"retweeted\": false, \"possibly_sensitive\": false, \"possibly_sensitive_appealable\": false, \"lang\": \"en\"}\n",
      "{\"created_at\": \"Wed Aug 28 22:36:37 +0000 2019\", \"id\": 1166842046591774723, \"id_str\": \"1166842046591774723\", \"text\": \"From @chandraxray, a new look at Cassiopeia A, featured in the observatory's 1999 \\\"first light\\\" image. \\nThis glowin\\u2026 https://t.co/q9Ie4L1VrB\", \"truncated\": true, \"entities\": {\"hashtags\": [], \"symbols\": [], \"user_mentions\": [{\"screen_name\": \"chandraxray\", \"name\": \"Chandra Observatory\", \"id\": 12415722, \"id_str\": \"12415722\", \"indices\": [5, 17]}], \"urls\": [{\"url\": \"https://t.co/q9Ie4L1VrB\", \"expanded_url\": \"https://twitter.com/i/web/status/1166842046591774723\", \"display_url\": \"twitter.com/i/web/status/1\\u2026\", \"indices\": [117, 140]}]}, \"source\": \"<a href=\\\"https://www.sprinklr.com\\\" rel=\\\"nofollow\\\">Sprinklr</a>\", \"in_reply_to_status_id\": null, \"in_reply_to_status_id_str\": null, \"in_reply_to_user_id\": null, \"in_reply_to_user_id_str\": null, \"in_reply_to_screen_name\": null, \"user\": {\"id\": 11348282, \"id_str\": \"11348282\", \"name\": \"NASA\", \"screen_name\": \"NASA\", \"location\": \"\", \"description\": \"Explore the universe and discover our home planet with @NASA. We usually post in EDT (UTC-4)\", \"url\": \"https://t.co/TcEE6NS8nD\", \"entities\": {\"url\": {\"urls\": [{\"url\": \"https://t.co/TcEE6NS8nD\", \"expanded_url\": \"http://www.nasa.gov\", \"display_url\": \"nasa.gov\", \"indices\": [0, 23]}]}, \"description\": {\"urls\": []}}, \"protected\": false, \"followers_count\": 32499466, \"friends_count\": 298, \"listed_count\": 94067, \"created_at\": \"Wed Dec 19 20:20:32 +0000 2007\", \"favourites_count\": 6604, \"utc_offset\": null, \"time_zone\": null, \"geo_enabled\": false, \"verified\": true, \"statuses_count\": 57028, \"lang\": null, \"contributors_enabled\": false, \"is_translator\": false, \"is_translation_enabled\": false, \"profile_background_color\": \"000000\", \"profile_background_image_url\": \"http://abs.twimg.com/images/themes/theme1/bg.png\", \"profile_background_image_url_https\": \"https://abs.twimg.com/images/themes/theme1/bg.png\", \"profile_background_tile\": false, \"profile_image_url\": \"http://pbs.twimg.com/profile_images/1091070803184177153/TI2qItoi_normal.jpg\", \"profile_image_url_https\": \"https://pbs.twimg.com/profile_images/1091070803184177153/TI2qItoi_normal.jpg\", \"profile_banner_url\": \"https://pbs.twimg.com/profile_banners/11348282/1564146425\", \"profile_link_color\": \"205BA7\", \"profile_sidebar_border_color\": \"000000\", \"profile_sidebar_fill_color\": \"F3F2F2\", \"profile_text_color\": \"000000\", \"profile_use_background_image\": true, \"has_extended_profile\": true, \"default_profile\": false, \"default_profile_image\": false, \"following\": true, \"follow_request_sent\": false, \"notifications\": false, \"translator_type\": \"regular\"}, \"geo\": null, \"coordinates\": null, \"place\": null, \"contributors\": null, \"is_quote_status\": false, \"retweet_count\": 667, \"favorite_count\": 2717, \"favorited\": false, \"retweeted\": false, \"possibly_sensitive\": false, \"possibly_sensitive_appealable\": false, \"lang\": \"en\"}\n",
      "{\"created_at\": \"Wed Aug 28 22:11:18 +0000 2019\", \"id\": 1166835677696266242, \"id_str\": \"1166835677696266242\", \"text\": \"He just uploaded! :) https://t.co/YLqMrV374T\", \"truncated\": false, \"entities\": {\"hashtags\": [], \"symbols\": [], \"user_mentions\": [], \"urls\": [{\"url\": \"https://t.co/YLqMrV374T\", \"expanded_url\": \"https://twitter.com/mrbeastyt/status/1165597452793237504\", \"display_url\": \"twitter.com/mrbeastyt/stat\\u2026\", \"indices\": [21, 44]}]}, \"source\": \"<a href=\\\"http://twitter.com/download/iphone\\\" rel=\\\"nofollow\\\">Twitter for iPhone</a>\", \"in_reply_to_status_id\": null, \"in_reply_to_status_id_str\": null, \"in_reply_to_user_id\": null, \"in_reply_to_user_id_str\": null, \"in_reply_to_screen_name\": null, \"user\": {\"id\": 2455740283, \"id_str\": \"2455740283\", \"name\": \"MrBeast\", \"screen_name\": \"MrBeastYT\", \"location\": \"Read My Banner\", \"description\": \"Human ATM\", \"url\": \"https://t.co/403OJQdjTU\", \"entities\": {\"url\": {\"urls\": [{\"url\": \"https://t.co/403OJQdjTU\", \"expanded_url\": \"https://shopmrbeast.com/\", \"display_url\": \"shopmrbeast.com\", \"indices\": [0, 23]}]}, \"description\": {\"urls\": []}}, \"protected\": false, \"followers_count\": 3527192, \"friends_count\": 1074, \"listed_count\": 582, \"created_at\": \"Mon Apr 21 00:28:42 +0000 2014\", \"favourites_count\": 27551, \"utc_offset\": null, \"time_zone\": null, \"geo_enabled\": true, \"verified\": true, \"statuses_count\": 2332, \"lang\": null, \"contributors_enabled\": false, \"is_translator\": false, \"is_translation_enabled\": false, \"profile_background_color\": \"000000\", \"profile_background_image_url\": \"http://abs.twimg.com/images/themes/theme9/bg.gif\", \"profile_background_image_url_https\": \"https://abs.twimg.com/images/themes/theme9/bg.gif\", \"profile_background_tile\": false, \"profile_image_url\": \"http://pbs.twimg.com/profile_images/994592419705274369/RLplF55e_normal.jpg\", \"profile_image_url_https\": \"https://pbs.twimg.com/profile_images/994592419705274369/RLplF55e_normal.jpg\", \"profile_banner_url\": \"https://pbs.twimg.com/profile_banners/2455740283/1526239358\", \"profile_link_color\": \"89C9FA\", \"profile_sidebar_border_color\": \"000000\", \"profile_sidebar_fill_color\": \"000000\", \"profile_text_color\": \"000000\", \"profile_use_background_image\": false, \"has_extended_profile\": true, \"default_profile\": false, \"default_profile_image\": false, \"following\": true, \"follow_request_sent\": false, \"notifications\": false, \"translator_type\": \"none\"}, \"geo\": null, \"coordinates\": null, \"place\": null, \"contributors\": null, \"is_quote_status\": true, \"quoted_status_id\": 1165597452793237504, \"quoted_status_id_str\": \"1165597452793237504\", \"quoted_status\": {\"created_at\": \"Sun Aug 25 12:11:03 +0000 2019\", \"id\": 1165597452793237504, \"id_str\": \"1165597452793237504\", \"text\": \"My brother launches his channel next week! He has some massive videos coming up and i'm very proud of him. Go Subsc\\u2026 https://t.co/QqIs7XbZzu\", \"truncated\": true, \"entities\": {\"hashtags\": [], \"symbols\": [], \"user_mentions\": [], \"urls\": [{\"url\": \"https://t.co/QqIs7XbZzu\", \"expanded_url\": \"https://twitter.com/i/web/status/1165597452793237504\", \"display_url\": \"twitter.com/i/web/status/1\\u2026\", \"indices\": [117, 140]}]}, \"source\": \"<a href=\\\"https://mobile.twitter.com\\\" rel=\\\"nofollow\\\">Twitter Web App</a>\", \"in_reply_to_status_id\": null, \"in_reply_to_status_id_str\": null, \"in_reply_to_user_id\": null, \"in_reply_to_user_id_str\": null, \"in_reply_to_screen_name\": null, \"user\": {\"id\": 2455740283, \"id_str\": \"2455740283\", \"name\": \"MrBeast\", \"screen_name\": \"MrBeastYT\", \"location\": \"Read My Banner\", \"description\": \"Human ATM\", \"url\": \"https://t.co/403OJQdjTU\", \"entities\": {\"url\": {\"urls\": [{\"url\": \"https://t.co/403OJQdjTU\", \"expanded_url\": \"https://shopmrbeast.com/\", \"display_url\": \"shopmrbeast.com\", \"indices\": [0, 23]}]}, \"description\": {\"urls\": []}}, \"protected\": false, \"followers_count\": 3527192, \"friends_count\": 1074, \"listed_count\": 582, \"created_at\": \"Mon Apr 21 00:28:42 +0000 2014\", \"favourites_count\": 27551, \"utc_offset\": null, \"time_zone\": null, \"geo_enabled\": true, \"verified\": true, \"statuses_count\": 2332, \"lang\": null, \"contributors_enabled\": false, \"is_translator\": false, \"is_translation_enabled\": false, \"profile_background_color\": \"000000\", \"profile_background_image_url\": \"http://abs.twimg.com/images/themes/theme9/bg.gif\", \"profile_background_image_url_https\": \"https://abs.twimg.com/images/themes/theme9/bg.gif\", \"profile_background_tile\": false, \"profile_image_url\": \"http://pbs.twimg.com/profile_images/994592419705274369/RLplF55e_normal.jpg\", \"profile_image_url_https\": \"https://pbs.twimg.com/profile_images/994592419705274369/RLplF55e_normal.jpg\", \"profile_banner_url\": \"https://pbs.twimg.com/profile_banners/2455740283/1526239358\", \"profile_link_color\": \"89C9FA\", \"profile_sidebar_border_color\": \"000000\", \"profile_sidebar_fill_color\": \"000000\", \"profile_text_color\": \"000000\", \"profile_use_background_image\": false, \"has_extended_profile\": true, \"default_profile\": false, \"default_profile_image\": false, \"following\": true, \"follow_request_sent\": false, \"notifications\": false, \"translator_type\": \"none\"}, \"geo\": null, \"coordinates\": null, \"place\": null, \"contributors\": null, \"is_quote_status\": false, \"retweet_count\": 898, \"favorite_count\": 30181, \"favorited\": false, \"retweeted\": false, \"possibly_sensitive\": false, \"possibly_sensitive_appealable\": false, \"lang\": \"en\"}, \"retweet_count\": 228, \"favorite_count\": 7060, \"favorited\": false, \"retweeted\": false, \"possibly_sensitive\": false, \"possibly_sensitive_appealable\": false, \"lang\": \"en\"}\n",
      "{\"created_at\": \"Wed Aug 28 21:21:47 +0000 2019\", \"id\": 1166823213021782017, \"id_str\": \"1166823213021782017\", \"text\": \"@SpaceX Core body diameter is 9m/30ft\", \"truncated\": false, \"entities\": {\"hashtags\": [], \"symbols\": [], \"user_mentions\": [{\"screen_name\": \"SpaceX\", \"name\": \"SpaceX\", \"id\": 34743251, \"id_str\": \"34743251\", \"indices\": [0, 7]}], \"urls\": []}, \"source\": \"<a href=\\\"http://twitter.com/download/iphone\\\" rel=\\\"nofollow\\\">Twitter for iPhone</a>\", \"in_reply_to_status_id\": 1166822634874490880, \"in_reply_to_status_id_str\": \"1166822634874490880\", \"in_reply_to_user_id\": 34743251, \"in_reply_to_user_id_str\": \"34743251\", \"in_reply_to_screen_name\": \"SpaceX\", \"user\": {\"id\": 44196397, \"id_str\": \"44196397\", \"name\": \"Elon Musk\", \"screen_name\": \"elonmusk\", \"location\": \"\", \"description\": \"\", \"url\": null, \"entities\": {\"description\": {\"urls\": []}}, \"protected\": false, \"followers_count\": 27991659, \"friends_count\": 78, \"listed_count\": 51137, \"created_at\": \"Tue Jun 02 20:12:29 +0000 2009\", \"favourites_count\": 3723, \"utc_offset\": null, \"time_zone\": null, \"geo_enabled\": false, \"verified\": true, \"statuses_count\": 8590, \"lang\": null, \"contributors_enabled\": false, \"is_translator\": false, \"is_translation_enabled\": false, \"profile_background_color\": \"C0DEED\", \"profile_background_image_url\": \"http://abs.twimg.com/images/themes/theme1/bg.png\", \"profile_background_image_url_https\": \"https://abs.twimg.com/images/themes/theme1/bg.png\", \"profile_background_tile\": false, \"profile_image_url\": \"http://pbs.twimg.com/profile_images/1163869972633808897/EPuBFf_K_normal.jpg\", \"profile_image_url_https\": \"https://pbs.twimg.com/profile_images/1163869972633808897/EPuBFf_K_normal.jpg\", \"profile_banner_url\": \"https://pbs.twimg.com/profile_banners/44196397/1556675519\", \"profile_link_color\": \"0084B4\", \"profile_sidebar_border_color\": \"C0DEED\", \"profile_sidebar_fill_color\": \"DDEEF6\", \"profile_text_color\": \"333333\", \"profile_use_background_image\": true, \"has_extended_profile\": true, \"default_profile\": false, \"default_profile_image\": false, \"following\": true, \"follow_request_sent\": false, \"notifications\": false, \"translator_type\": \"none\"}, \"geo\": null, \"coordinates\": null, \"place\": null, \"contributors\": null, \"is_quote_status\": false, \"retweet_count\": 379, \"favorite_count\": 9494, \"favorited\": false, \"retweeted\": false, \"lang\": \"en\"}\n",
      "{\"created_at\": \"Wed Aug 28 21:19:29 +0000 2019\", \"id\": 1166822634874490880, \"id_str\": \"1166822634874490880\", \"text\": \"Starhopper flight test drone footage https://t.co/ilvALgrpCo\", \"truncated\": false, \"entities\": {\"hashtags\": [], \"symbols\": [], \"user_mentions\": [], \"urls\": [], \"media\": [{\"id\": 1166822307253211136, \"id_str\": \"1166822307253211136\", \"indices\": [37, 60], \"media_url\": \"http://pbs.twimg.com/ext_tw_video_thumb/1166822307253211136/pu/img/gc8kzKVmRjQkcixq.jpg\", \"media_url_https\": \"https://pbs.twimg.com/ext_tw_video_thumb/1166822307253211136/pu/img/gc8kzKVmRjQkcixq.jpg\", \"url\": \"https://t.co/ilvALgrpCo\", \"display_url\": \"pic.twitter.com/ilvALgrpCo\", \"expanded_url\": \"https://twitter.com/SpaceX/status/1166822634874490880/video/1\", \"type\": \"photo\", \"sizes\": {\"thumb\": {\"w\": 150, \"h\": 150, \"resize\": \"crop\"}, \"medium\": {\"w\": 1200, \"h\": 675, \"resize\": \"fit\"}, \"small\": {\"w\": 680, \"h\": 383, \"resize\": \"fit\"}, \"large\": {\"w\": 1280, \"h\": 720, \"resize\": \"fit\"}}}]}, \"extended_entities\": {\"media\": [{\"id\": 1166822307253211136, \"id_str\": \"1166822307253211136\", \"indices\": [37, 60], \"media_url\": \"http://pbs.twimg.com/ext_tw_video_thumb/1166822307253211136/pu/img/gc8kzKVmRjQkcixq.jpg\", \"media_url_https\": \"https://pbs.twimg.com/ext_tw_video_thumb/1166822307253211136/pu/img/gc8kzKVmRjQkcixq.jpg\", \"url\": \"https://t.co/ilvALgrpCo\", \"display_url\": \"pic.twitter.com/ilvALgrpCo\", \"expanded_url\": \"https://twitter.com/SpaceX/status/1166822634874490880/video/1\", \"type\": \"video\", \"sizes\": {\"thumb\": {\"w\": 150, \"h\": 150, \"resize\": \"crop\"}, \"medium\": {\"w\": 1200, \"h\": 675, \"resize\": \"fit\"}, \"small\": {\"w\": 680, \"h\": 383, \"resize\": \"fit\"}, \"large\": {\"w\": 1280, \"h\": 720, \"resize\": \"fit\"}}, \"video_info\": {\"aspect_ratio\": [16, 9], \"duration_millis\": 60060, \"variants\": [{\"bitrate\": 832000, \"content_type\": \"video/mp4\", \"url\": \"https://video.twimg.com/ext_tw_video/1166822307253211136/pu/vid/640x360/iyzFTlOrVmT5w-NL.mp4?tag=10\"}, {\"content_type\": \"application/x-mpegURL\", \"url\": \"https://video.twimg.com/ext_tw_video/1166822307253211136/pu/pl/W4RMDMBofazZ7QS6.m3u8?tag=10\"}, {\"bitrate\": 2176000, \"content_type\": \"video/mp4\", \"url\": \"https://video.twimg.com/ext_tw_video/1166822307253211136/pu/vid/1280x720/3cWdcFiqyY3pO7Q4.mp4?tag=10\"}, {\"bitrate\": 256000, \"content_type\": \"video/mp4\", \"url\": \"https://video.twimg.com/ext_tw_video/1166822307253211136/pu/vid/480x270/c2KXwaBchv9dHkJ2.mp4?tag=10\"}]}, \"additional_media_info\": {\"monetizable\": false}}]}, \"source\": \"<a href=\\\"https://mobile.twitter.com\\\" rel=\\\"nofollow\\\">Twitter Web App</a>\", \"in_reply_to_status_id\": null, \"in_reply_to_status_id_str\": null, \"in_reply_to_user_id\": null, \"in_reply_to_user_id_str\": null, \"in_reply_to_screen_name\": null, \"user\": {\"id\": 34743251, \"id_str\": \"34743251\", \"name\": \"SpaceX\", \"screen_name\": \"SpaceX\", \"location\": \"Hawthorne, CA\", \"description\": \"SpaceX designs, manufactures and launches the world\\u2019s most advanced rockets and spacecraft\", \"url\": \"https://t.co/SDnmlLwwoK\", \"entities\": {\"url\": {\"urls\": [{\"url\": \"https://t.co/SDnmlLwwoK\", \"expanded_url\": \"http://www.spacex.com\", \"display_url\": \"spacex.com\", \"indices\": [0, 23]}]}, \"description\": {\"urls\": []}}, \"protected\": false, \"followers_count\": 8871401, \"friends_count\": 107, \"listed_count\": 24323, \"created_at\": \"Thu Apr 23 21:53:30 +0000 2009\", \"favourites_count\": 98, \"utc_offset\": null, \"time_zone\": null, \"geo_enabled\": false, \"verified\": true, \"statuses_count\": 4432, \"lang\": null, \"contributors_enabled\": false, \"is_translator\": false, \"is_translation_enabled\": false, \"profile_background_color\": \"000000\", \"profile_background_image_url\": \"http://abs.twimg.com/images/themes/theme14/bg.gif\", \"profile_background_image_url_https\": \"https://abs.twimg.com/images/themes/theme14/bg.gif\", \"profile_background_tile\": false, \"profile_image_url\": \"http://pbs.twimg.com/profile_images/1082744382585856001/rH_k3PtQ_normal.jpg\", \"profile_image_url_https\": \"https://pbs.twimg.com/profile_images/1082744382585856001/rH_k3PtQ_normal.jpg\", \"profile_banner_url\": \"https://pbs.twimg.com/profile_banners/34743251/1555376973\", \"profile_link_color\": \"62616B\", \"profile_sidebar_border_color\": \"FFFFFF\", \"profile_sidebar_fill_color\": \"EFEFEF\", \"profile_text_color\": \"333333\", \"profile_use_background_image\": true, \"has_extended_profile\": false, \"default_profile\": false, \"default_profile_image\": false, \"following\": true, \"follow_request_sent\": false, \"notifications\": false, \"translator_type\": \"none\"}, \"geo\": null, \"coordinates\": null, \"place\": null, \"contributors\": null, \"is_quote_status\": false, \"retweet_count\": 7444, \"favorite_count\": 36421, \"favorited\": false, \"retweeted\": false, \"possibly_sensitive\": false, \"possibly_sensitive_appealable\": false, \"lang\": \"en\"}\n",
      "{\"created_at\": \"Wed Aug 28 21:10:03 +0000 2019\", \"id\": 1166820260084953088, \"id_str\": \"1166820260084953088\", \"text\": \"RT @JimBridenstine: We\\u2019re one step closer to our next Red Planet mission in advance of humans traveling there. The #MarsHelicopter will be\\u2026\", \"truncated\": false, \"entities\": {\"hashtags\": [{\"text\": \"MarsHelicopter\", \"indices\": [115, 130]}], \"symbols\": [], \"user_mentions\": [{\"screen_name\": \"JimBridenstine\", \"name\": \"Jim Bridenstine\", \"id\": 243418245, \"id_str\": \"243418245\", \"indices\": [3, 18]}], \"urls\": []}, \"source\": \"<a href=\\\"http://twitter.com/download/iphone\\\" rel=\\\"nofollow\\\">Twitter for iPhone</a>\", \"in_reply_to_status_id\": null, \"in_reply_to_status_id_str\": null, \"in_reply_to_user_id\": null, \"in_reply_to_user_id_str\": null, \"in_reply_to_screen_name\": null, \"user\": {\"id\": 11348282, \"id_str\": \"11348282\", \"name\": \"NASA\", \"screen_name\": \"NASA\", \"location\": \"\", \"description\": \"Explore the universe and discover our home planet with @NASA. We usually post in EDT (UTC-4)\", \"url\": \"https://t.co/TcEE6NS8nD\", \"entities\": {\"url\": {\"urls\": [{\"url\": \"https://t.co/TcEE6NS8nD\", \"expanded_url\": \"http://www.nasa.gov\", \"display_url\": \"nasa.gov\", \"indices\": [0, 23]}]}, \"description\": {\"urls\": []}}, \"protected\": false, \"followers_count\": 32499466, \"friends_count\": 298, \"listed_count\": 94067, \"created_at\": \"Wed Dec 19 20:20:32 +0000 2007\", \"favourites_count\": 6604, \"utc_offset\": null, \"time_zone\": null, \"geo_enabled\": false, \"verified\": true, \"statuses_count\": 57028, \"lang\": null, \"contributors_enabled\": false, \"is_translator\": false, \"is_translation_enabled\": false, \"profile_background_color\": \"000000\", \"profile_background_image_url\": \"http://abs.twimg.com/images/themes/theme1/bg.png\", \"profile_background_image_url_https\": \"https://abs.twimg.com/images/themes/theme1/bg.png\", \"profile_background_tile\": false, \"profile_image_url\": \"http://pbs.twimg.com/profile_images/1091070803184177153/TI2qItoi_normal.jpg\", \"profile_image_url_https\": \"https://pbs.twimg.com/profile_images/1091070803184177153/TI2qItoi_normal.jpg\", \"profile_banner_url\": \"https://pbs.twimg.com/profile_banners/11348282/1564146425\", \"profile_link_color\": \"205BA7\", \"profile_sidebar_border_color\": \"000000\", \"profile_sidebar_fill_color\": \"F3F2F2\", \"profile_text_color\": \"000000\", \"profile_use_background_image\": true, \"has_extended_profile\": true, \"default_profile\": false, \"default_profile_image\": false, \"following\": true, \"follow_request_sent\": false, \"notifications\": false, \"translator_type\": \"regular\"}, \"geo\": null, \"coordinates\": null, \"place\": null, \"contributors\": null, \"retweeted_status\": {\"created_at\": \"Wed Aug 28 21:08:37 +0000 2019\", \"id\": 1166819901065109505, \"id_str\": \"1166819901065109505\", \"text\": \"We\\u2019re one step closer to our next Red Planet mission in advance of humans traveling there. The #MarsHelicopter will\\u2026 https://t.co/cj2iLOvHgF\", \"truncated\": true, \"entities\": {\"hashtags\": [{\"text\": \"MarsHelicopter\", \"indices\": [95, 110]}], \"symbols\": [], \"user_mentions\": [], \"urls\": [{\"url\": \"https://t.co/cj2iLOvHgF\", \"expanded_url\": \"https://twitter.com/i/web/status/1166819901065109505\", \"display_url\": \"twitter.com/i/web/status/1\\u2026\", \"indices\": [117, 140]}]}, \"source\": \"<a href=\\\"https://www.sprinklr.com\\\" rel=\\\"nofollow\\\">Sprinklr</a>\", \"in_reply_to_status_id\": null, \"in_reply_to_status_id_str\": null, \"in_reply_to_user_id\": null, \"in_reply_to_user_id_str\": null, \"in_reply_to_screen_name\": null, \"user\": {\"id\": 243418245, \"id_str\": \"243418245\", \"name\": \"Jim Bridenstine\", \"screen_name\": \"JimBridenstine\", \"location\": \"Washington, DC\", \"description\": \"@NASA Administrator. Husband. Father. Veteran. https://t.co/zjlQuVy4s1\", \"url\": null, \"entities\": {\"description\": {\"urls\": [{\"url\": \"https://t.co/zjlQuVy4s1\", \"expanded_url\": \"https://www.nasa.gov/about/highlights/bridenstine-biography.html\", \"display_url\": \"nasa.gov/about/highligh\\u2026\", \"indices\": [47, 70]}]}}, \"protected\": false, \"followers_count\": 65475, \"friends_count\": 454, \"listed_count\": 578, \"created_at\": \"Thu Jan 27 00:32:51 +0000 2011\", \"favourites_count\": 1221, \"utc_offset\": null, \"time_zone\": null, \"geo_enabled\": false, \"verified\": true, \"statuses_count\": 1247, \"lang\": null, \"contributors_enabled\": false, \"is_translator\": false, \"is_translation_enabled\": false, \"profile_background_color\": \"C0DEED\", \"profile_background_image_url\": \"http://abs.twimg.com/images/themes/theme1/bg.png\", \"profile_background_image_url_https\": \"https://abs.twimg.com/images/themes/theme1/bg.png\", \"profile_background_tile\": false, \"profile_image_url\": \"http://pbs.twimg.com/profile_images/1154488953917104130/qujJzZ6d_normal.jpg\", \"profile_image_url_https\": \"https://pbs.twimg.com/profile_images/1154488953917104130/qujJzZ6d_normal.jpg\", \"profile_banner_url\": \"https://pbs.twimg.com/profile_banners/243418245/1552484485\", \"profile_link_color\": \"1DA1F2\", \"profile_sidebar_border_color\": \"C0DEED\", \"profile_sidebar_fill_color\": \"DDEEF6\", \"profile_text_color\": \"333333\", \"profile_use_background_image\": true, \"has_extended_profile\": false, \"default_profile\": true, \"default_profile_image\": false, \"following\": false, \"follow_request_sent\": false, \"notifications\": false, \"translator_type\": \"none\"}, \"geo\": null, \"coordinates\": null, \"place\": null, \"contributors\": null, \"is_quote_status\": false, \"retweet_count\": 187, \"favorite_count\": 1045, \"favorited\": false, \"retweeted\": false, \"possibly_sensitive\": false, \"possibly_sensitive_appealable\": false, \"lang\": \"en\"}, \"is_quote_status\": false, \"retweet_count\": 187, \"favorite_count\": 0, \"favorited\": false, \"retweeted\": false, \"lang\": \"en\"}\n",
      "{\"created_at\": \"Wed Aug 28 20:01:32 +0000 2019\", \"id\": 1166803016944705536, \"id_str\": \"1166803016944705536\", \"text\": \"#HurricaneDorian has strengthened over the warm waters of the eastern Caribbean Sea. Our @NASAEarth satellites are\\u2026 https://t.co/duLjbwJ7uQ\", \"truncated\": true, \"entities\": {\"hashtags\": [{\"text\": \"HurricaneDorian\", \"indices\": [0, 16]}], \"symbols\": [], \"user_mentions\": [{\"screen_name\": \"NASAEarth\", \"name\": \"NASA Earth\", \"id\": 24919888, \"id_str\": \"24919888\", \"indices\": [89, 99]}], \"urls\": [{\"url\": \"https://t.co/duLjbwJ7uQ\", \"expanded_url\": \"https://twitter.com/i/web/status/1166803016944705536\", \"display_url\": \"twitter.com/i/web/status/1\\u2026\", \"indices\": [116, 139]}]}, \"source\": \"<a href=\\\"https://www.sprinklr.com\\\" rel=\\\"nofollow\\\">Sprinklr</a>\", \"in_reply_to_status_id\": null, \"in_reply_to_status_id_str\": null, \"in_reply_to_user_id\": null, \"in_reply_to_user_id_str\": null, \"in_reply_to_screen_name\": null, \"user\": {\"id\": 11348282, \"id_str\": \"11348282\", \"name\": \"NASA\", \"screen_name\": \"NASA\", \"location\": \"\", \"description\": \"Explore the universe and discover our home planet with @NASA. We usually post in EDT (UTC-4)\", \"url\": \"https://t.co/TcEE6NS8nD\", \"entities\": {\"url\": {\"urls\": [{\"url\": \"https://t.co/TcEE6NS8nD\", \"expanded_url\": \"http://www.nasa.gov\", \"display_url\": \"nasa.gov\", \"indices\": [0, 23]}]}, \"description\": {\"urls\": []}}, \"protected\": false, \"followers_count\": 32499466, \"friends_count\": 298, \"listed_count\": 94067, \"created_at\": \"Wed Dec 19 20:20:32 +0000 2007\", \"favourites_count\": 6604, \"utc_offset\": null, \"time_zone\": null, \"geo_enabled\": false, \"verified\": true, \"statuses_count\": 57028, \"lang\": null, \"contributors_enabled\": false, \"is_translator\": false, \"is_translation_enabled\": false, \"profile_background_color\": \"000000\", \"profile_background_image_url\": \"http://abs.twimg.com/images/themes/theme1/bg.png\", \"profile_background_image_url_https\": \"https://abs.twimg.com/images/themes/theme1/bg.png\", \"profile_background_tile\": false, \"profile_image_url\": \"http://pbs.twimg.com/profile_images/1091070803184177153/TI2qItoi_normal.jpg\", \"profile_image_url_https\": \"https://pbs.twimg.com/profile_images/1091070803184177153/TI2qItoi_normal.jpg\", \"profile_banner_url\": \"https://pbs.twimg.com/profile_banners/11348282/1564146425\", \"profile_link_color\": \"205BA7\", \"profile_sidebar_border_color\": \"000000\", \"profile_sidebar_fill_color\": \"F3F2F2\", \"profile_text_color\": \"000000\", \"profile_use_background_image\": true, \"has_extended_profile\": true, \"default_profile\": false, \"default_profile_image\": false, \"following\": true, \"follow_request_sent\": false, \"notifications\": false, \"translator_type\": \"regular\"}, \"geo\": null, \"coordinates\": null, \"place\": null, \"contributors\": null, \"is_quote_status\": false, \"retweet_count\": 475, \"favorite_count\": 1453, \"favorited\": false, \"retweeted\": false, \"possibly_sensitive\": false, \"possibly_sensitive_appealable\": false, \"lang\": \"en\"}\n",
      "{\"created_at\": \"Wed Aug 28 18:30:39 +0000 2019\", \"id\": 1166780149070741504, \"id_str\": \"1166780149070741504\", \"text\": \"Calling all U.S. K-12 students: We need your help naming our #Mars2020 rover! Learn how to submit an essay:\\u2026 https://t.co/ic9l7CzBHa\", \"truncated\": true, \"entities\": {\"hashtags\": [{\"text\": \"Mars2020\", \"indices\": [61, 70]}], \"symbols\": [], \"user_mentions\": [], \"urls\": [{\"url\": \"https://t.co/ic9l7CzBHa\", \"expanded_url\": \"https://twitter.com/i/web/status/1166780149070741504\", \"display_url\": \"twitter.com/i/web/status/1\\u2026\", \"indices\": [109, 132]}]}, \"source\": \"<a href=\\\"https://studio.twitter.com\\\" rel=\\\"nofollow\\\">Twitter Media Studio</a>\", \"in_reply_to_status_id\": null, \"in_reply_to_status_id_str\": null, \"in_reply_to_user_id\": null, \"in_reply_to_user_id_str\": null, \"in_reply_to_screen_name\": null, \"user\": {\"id\": 11348282, \"id_str\": \"11348282\", \"name\": \"NASA\", \"screen_name\": \"NASA\", \"location\": \"\", \"description\": \"Explore the universe and discover our home planet with @NASA. We usually post in EDT (UTC-4)\", \"url\": \"https://t.co/TcEE6NS8nD\", \"entities\": {\"url\": {\"urls\": [{\"url\": \"https://t.co/TcEE6NS8nD\", \"expanded_url\": \"http://www.nasa.gov\", \"display_url\": \"nasa.gov\", \"indices\": [0, 23]}]}, \"description\": {\"urls\": []}}, \"protected\": false, \"followers_count\": 32499466, \"friends_count\": 298, \"listed_count\": 94067, \"created_at\": \"Wed Dec 19 20:20:32 +0000 2007\", \"favourites_count\": 6604, \"utc_offset\": null, \"time_zone\": null, \"geo_enabled\": false, \"verified\": true, \"statuses_count\": 57028, \"lang\": null, \"contributors_enabled\": false, \"is_translator\": false, \"is_translation_enabled\": false, \"profile_background_color\": \"000000\", \"profile_background_image_url\": \"http://abs.twimg.com/images/themes/theme1/bg.png\", \"profile_background_image_url_https\": \"https://abs.twimg.com/images/themes/theme1/bg.png\", \"profile_background_tile\": false, \"profile_image_url\": \"http://pbs.twimg.com/profile_images/1091070803184177153/TI2qItoi_normal.jpg\", \"profile_image_url_https\": \"https://pbs.twimg.com/profile_images/1091070803184177153/TI2qItoi_normal.jpg\", \"profile_banner_url\": \"https://pbs.twimg.com/profile_banners/11348282/1564146425\", \"profile_link_color\": \"205BA7\", \"profile_sidebar_border_color\": \"000000\", \"profile_sidebar_fill_color\": \"F3F2F2\", \"profile_text_color\": \"000000\", \"profile_use_background_image\": true, \"has_extended_profile\": true, \"default_profile\": false, \"default_profile_image\": false, \"following\": true, \"follow_request_sent\": false, \"notifications\": false, \"translator_type\": \"regular\"}, \"geo\": null, \"coordinates\": null, \"place\": null, \"contributors\": null, \"is_quote_status\": false, \"retweet_count\": 417, \"favorite_count\": 1621, \"favorited\": false, \"retweeted\": false, \"possibly_sensitive\": false, \"possibly_sensitive_appealable\": false, \"lang\": \"en\"}\n",
      "{\"created_at\": \"Wed Aug 28 17:11:36 +0000 2019\", \"id\": 1166760251909136387, \"id_str\": \"1166760251909136387\", \"text\": \"Our @NASAEarth Aqua satellite provided forecasters with images and infrared data on #TropicalStormDorian as it cont\\u2026 https://t.co/BsZwoBtcbG\", \"truncated\": true, \"entities\": {\"hashtags\": [{\"text\": \"TropicalStormDorian\", \"indices\": [84, 104]}], \"symbols\": [], \"user_mentions\": [{\"screen_name\": \"NASAEarth\", \"name\": \"NASA Earth\", \"id\": 24919888, \"id_str\": \"24919888\", \"indices\": [4, 14]}], \"urls\": [{\"url\": \"https://t.co/BsZwoBtcbG\", \"expanded_url\": \"https://twitter.com/i/web/status/1166760251909136387\", \"display_url\": \"twitter.com/i/web/status/1\\u2026\", \"indices\": [117, 140]}]}, \"source\": \"<a href=\\\"https://www.sprinklr.com\\\" rel=\\\"nofollow\\\">Sprinklr</a>\", \"in_reply_to_status_id\": null, \"in_reply_to_status_id_str\": null, \"in_reply_to_user_id\": null, \"in_reply_to_user_id_str\": null, \"in_reply_to_screen_name\": null, \"user\": {\"id\": 11348282, \"id_str\": \"11348282\", \"name\": \"NASA\", \"screen_name\": \"NASA\", \"location\": \"\", \"description\": \"Explore the universe and discover our home planet with @NASA. We usually post in EDT (UTC-4)\", \"url\": \"https://t.co/TcEE6NS8nD\", \"entities\": {\"url\": {\"urls\": [{\"url\": \"https://t.co/TcEE6NS8nD\", \"expanded_url\": \"http://www.nasa.gov\", \"display_url\": \"nasa.gov\", \"indices\": [0, 23]}]}, \"description\": {\"urls\": []}}, \"protected\": false, \"followers_count\": 32499466, \"friends_count\": 298, \"listed_count\": 94067, \"created_at\": \"Wed Dec 19 20:20:32 +0000 2007\", \"favourites_count\": 6604, \"utc_offset\": null, \"time_zone\": null, \"geo_enabled\": false, \"verified\": true, \"statuses_count\": 57028, \"lang\": null, \"contributors_enabled\": false, \"is_translator\": false, \"is_translation_enabled\": false, \"profile_background_color\": \"000000\", \"profile_background_image_url\": \"http://abs.twimg.com/images/themes/theme1/bg.png\", \"profile_background_image_url_https\": \"https://abs.twimg.com/images/themes/theme1/bg.png\", \"profile_background_tile\": false, \"profile_image_url\": \"http://pbs.twimg.com/profile_images/1091070803184177153/TI2qItoi_normal.jpg\", \"profile_image_url_https\": \"https://pbs.twimg.com/profile_images/1091070803184177153/TI2qItoi_normal.jpg\", \"profile_banner_url\": \"https://pbs.twimg.com/profile_banners/11348282/1564146425\", \"profile_link_color\": \"205BA7\", \"profile_sidebar_border_color\": \"000000\", \"profile_sidebar_fill_color\": \"F3F2F2\", \"profile_text_color\": \"000000\", \"profile_use_background_image\": true, \"has_extended_profile\": true, \"default_profile\": false, \"default_profile_image\": false, \"following\": true, \"follow_request_sent\": false, \"notifications\": false, \"translator_type\": \"regular\"}, \"geo\": null, \"coordinates\": null, \"place\": null, \"contributors\": null, \"is_quote_status\": false, \"retweet_count\": 208, \"favorite_count\": 1258, \"favorited\": false, \"retweeted\": false, \"possibly_sensitive\": false, \"possibly_sensitive_appealable\": false, \"lang\": \"en\"}\n"
     ]
    }
   ],
   "source": [
    "#define process or store\n",
    "import json\n",
    "def process_or_store(tweet):\n",
    "    print(json.dumps(tweet))\n",
    "\n",
    "for status in tweepy.Cursor(api.home_timeline).items(10):\n",
    "    # Process a single status\n",
    "    process_or_store(status._json)"
   ]
  },
  {
   "cell_type": "code",
   "execution_count": 3,
   "metadata": {},
   "outputs": [
    {
     "ename": "KeyboardInterrupt",
     "evalue": "",
     "output_type": "error",
     "traceback": [
      "\u001b[1;31m---------------------------------------------------------------------------\u001b[0m",
      "\u001b[1;31mKeyboardInterrupt\u001b[0m                         Traceback (most recent call last)",
      "\u001b[1;32m<ipython-input-3-266078dc39bd>\u001b[0m in \u001b[0;36m<module>\u001b[1;34m\u001b[0m\n\u001b[0;32m     17\u001b[0m         \u001b[1;32mreturn\u001b[0m \u001b[1;32mTrue\u001b[0m\u001b[1;33m\u001b[0m\u001b[1;33m\u001b[0m\u001b[0m\n\u001b[0;32m     18\u001b[0m \u001b[0mtwitter_stream\u001b[0m \u001b[1;33m=\u001b[0m \u001b[0mStream\u001b[0m\u001b[1;33m(\u001b[0m\u001b[0mauth\u001b[0m\u001b[1;33m,\u001b[0m \u001b[0mMyListener\u001b[0m\u001b[1;33m(\u001b[0m\u001b[1;33m)\u001b[0m\u001b[1;33m)\u001b[0m\u001b[1;33m\u001b[0m\u001b[1;33m\u001b[0m\u001b[0m\n\u001b[1;32m---> 19\u001b[1;33m \u001b[0mtwitter_stream\u001b[0m\u001b[1;33m.\u001b[0m\u001b[0mfilter\u001b[0m\u001b[1;33m(\u001b[0m\u001b[0mtrack\u001b[0m\u001b[1;33m=\u001b[0m\u001b[1;33m[\u001b[0m\u001b[1;34m'#python'\u001b[0m\u001b[1;33m]\u001b[0m\u001b[1;33m)\u001b[0m\u001b[1;33m\u001b[0m\u001b[1;33m\u001b[0m\u001b[0m\n\u001b[0m",
      "\u001b[1;32mc:\\users\\dtman\\appdata\\local\\programs\\python\\python37-32\\lib\\site-packages\\tweepy\\streaming.py\u001b[0m in \u001b[0;36mfilter\u001b[1;34m(self, follow, track, is_async, locations, stall_warnings, languages, encoding, filter_level)\u001b[0m\n\u001b[0;32m    472\u001b[0m             \u001b[0mself\u001b[0m\u001b[1;33m.\u001b[0m\u001b[0mbody\u001b[0m\u001b[1;33m[\u001b[0m\u001b[1;34m'filter_level'\u001b[0m\u001b[1;33m]\u001b[0m \u001b[1;33m=\u001b[0m \u001b[0mfilter_level\u001b[0m\u001b[1;33m.\u001b[0m\u001b[0mencode\u001b[0m\u001b[1;33m(\u001b[0m\u001b[0mencoding\u001b[0m\u001b[1;33m)\u001b[0m\u001b[1;33m\u001b[0m\u001b[1;33m\u001b[0m\u001b[0m\n\u001b[0;32m    473\u001b[0m         \u001b[0mself\u001b[0m\u001b[1;33m.\u001b[0m\u001b[0msession\u001b[0m\u001b[1;33m.\u001b[0m\u001b[0mparams\u001b[0m \u001b[1;33m=\u001b[0m \u001b[1;33m{\u001b[0m\u001b[1;34m'delimited'\u001b[0m\u001b[1;33m:\u001b[0m \u001b[1;34m'length'\u001b[0m\u001b[1;33m}\u001b[0m\u001b[1;33m\u001b[0m\u001b[1;33m\u001b[0m\u001b[0m\n\u001b[1;32m--> 474\u001b[1;33m         \u001b[0mself\u001b[0m\u001b[1;33m.\u001b[0m\u001b[0m_start\u001b[0m\u001b[1;33m(\u001b[0m\u001b[0mis_async\u001b[0m\u001b[1;33m)\u001b[0m\u001b[1;33m\u001b[0m\u001b[1;33m\u001b[0m\u001b[0m\n\u001b[0m\u001b[0;32m    475\u001b[0m \u001b[1;33m\u001b[0m\u001b[0m\n\u001b[0;32m    476\u001b[0m     def sitestream(self, follow, stall_warnings=False,\n",
      "\u001b[1;32mc:\\users\\dtman\\appdata\\local\\programs\\python\\python37-32\\lib\\site-packages\\tweepy\\streaming.py\u001b[0m in \u001b[0;36m_start\u001b[1;34m(self, is_async)\u001b[0m\n\u001b[0;32m    387\u001b[0m             \u001b[0mself\u001b[0m\u001b[1;33m.\u001b[0m\u001b[0m_thread\u001b[0m\u001b[1;33m.\u001b[0m\u001b[0mstart\u001b[0m\u001b[1;33m(\u001b[0m\u001b[1;33m)\u001b[0m\u001b[1;33m\u001b[0m\u001b[1;33m\u001b[0m\u001b[0m\n\u001b[0;32m    388\u001b[0m         \u001b[1;32melse\u001b[0m\u001b[1;33m:\u001b[0m\u001b[1;33m\u001b[0m\u001b[1;33m\u001b[0m\u001b[0m\n\u001b[1;32m--> 389\u001b[1;33m             \u001b[0mself\u001b[0m\u001b[1;33m.\u001b[0m\u001b[0m_run\u001b[0m\u001b[1;33m(\u001b[0m\u001b[1;33m)\u001b[0m\u001b[1;33m\u001b[0m\u001b[1;33m\u001b[0m\u001b[0m\n\u001b[0m\u001b[0;32m    390\u001b[0m \u001b[1;33m\u001b[0m\u001b[0m\n\u001b[0;32m    391\u001b[0m     \u001b[1;32mdef\u001b[0m \u001b[0mon_closed\u001b[0m\u001b[1;33m(\u001b[0m\u001b[0mself\u001b[0m\u001b[1;33m,\u001b[0m \u001b[0mresp\u001b[0m\u001b[1;33m)\u001b[0m\u001b[1;33m:\u001b[0m\u001b[1;33m\u001b[0m\u001b[1;33m\u001b[0m\u001b[0m\n",
      "\u001b[1;32mc:\\users\\dtman\\appdata\\local\\programs\\python\\python37-32\\lib\\site-packages\\tweepy\\streaming.py\u001b[0m in \u001b[0;36m_run\u001b[1;34m(self)\u001b[0m\n\u001b[0;32m    287\u001b[0m                     \u001b[0mself\u001b[0m\u001b[1;33m.\u001b[0m\u001b[0msnooze_time\u001b[0m \u001b[1;33m=\u001b[0m \u001b[0mself\u001b[0m\u001b[1;33m.\u001b[0m\u001b[0msnooze_time_step\u001b[0m\u001b[1;33m\u001b[0m\u001b[1;33m\u001b[0m\u001b[0m\n\u001b[0;32m    288\u001b[0m                     \u001b[0mself\u001b[0m\u001b[1;33m.\u001b[0m\u001b[0mlistener\u001b[0m\u001b[1;33m.\u001b[0m\u001b[0mon_connect\u001b[0m\u001b[1;33m(\u001b[0m\u001b[1;33m)\u001b[0m\u001b[1;33m\u001b[0m\u001b[1;33m\u001b[0m\u001b[0m\n\u001b[1;32m--> 289\u001b[1;33m                     \u001b[0mself\u001b[0m\u001b[1;33m.\u001b[0m\u001b[0m_read_loop\u001b[0m\u001b[1;33m(\u001b[0m\u001b[0mresp\u001b[0m\u001b[1;33m)\u001b[0m\u001b[1;33m\u001b[0m\u001b[1;33m\u001b[0m\u001b[0m\n\u001b[0m\u001b[0;32m    290\u001b[0m             \u001b[1;32mexcept\u001b[0m \u001b[1;33m(\u001b[0m\u001b[0mTimeout\u001b[0m\u001b[1;33m,\u001b[0m \u001b[0mssl\u001b[0m\u001b[1;33m.\u001b[0m\u001b[0mSSLError\u001b[0m\u001b[1;33m)\u001b[0m \u001b[1;32mas\u001b[0m \u001b[0mexc\u001b[0m\u001b[1;33m:\u001b[0m\u001b[1;33m\u001b[0m\u001b[1;33m\u001b[0m\u001b[0m\n\u001b[0;32m    291\u001b[0m                 \u001b[1;31m# This is still necessary, as a SSLError can actually be\u001b[0m\u001b[1;33m\u001b[0m\u001b[1;33m\u001b[0m\u001b[1;33m\u001b[0m\u001b[0m\n",
      "\u001b[1;32mc:\\users\\dtman\\appdata\\local\\programs\\python\\python37-32\\lib\\site-packages\\tweepy\\streaming.py\u001b[0m in \u001b[0;36m_read_loop\u001b[1;34m(self, resp)\u001b[0m\n\u001b[0;32m    337\u001b[0m             \u001b[0mlength\u001b[0m \u001b[1;33m=\u001b[0m \u001b[1;36m0\u001b[0m\u001b[1;33m\u001b[0m\u001b[1;33m\u001b[0m\u001b[0m\n\u001b[0;32m    338\u001b[0m             \u001b[1;32mwhile\u001b[0m \u001b[1;32mnot\u001b[0m \u001b[0mresp\u001b[0m\u001b[1;33m.\u001b[0m\u001b[0mraw\u001b[0m\u001b[1;33m.\u001b[0m\u001b[0mclosed\u001b[0m\u001b[1;33m:\u001b[0m\u001b[1;33m\u001b[0m\u001b[1;33m\u001b[0m\u001b[0m\n\u001b[1;32m--> 339\u001b[1;33m                 \u001b[0mline\u001b[0m \u001b[1;33m=\u001b[0m \u001b[0mbuf\u001b[0m\u001b[1;33m.\u001b[0m\u001b[0mread_line\u001b[0m\u001b[1;33m(\u001b[0m\u001b[1;33m)\u001b[0m\u001b[1;33m\u001b[0m\u001b[1;33m\u001b[0m\u001b[0m\n\u001b[0m\u001b[0;32m    340\u001b[0m                 \u001b[0mstripped_line\u001b[0m \u001b[1;33m=\u001b[0m \u001b[0mline\u001b[0m\u001b[1;33m.\u001b[0m\u001b[0mstrip\u001b[0m\u001b[1;33m(\u001b[0m\u001b[1;33m)\u001b[0m \u001b[1;32mif\u001b[0m \u001b[0mline\u001b[0m \u001b[1;32melse\u001b[0m \u001b[0mline\u001b[0m \u001b[1;31m# line is sometimes None so we need to check here\u001b[0m\u001b[1;33m\u001b[0m\u001b[1;33m\u001b[0m\u001b[0m\n\u001b[0;32m    341\u001b[0m                 \u001b[1;32mif\u001b[0m \u001b[1;32mnot\u001b[0m \u001b[0mstripped_line\u001b[0m\u001b[1;33m:\u001b[0m\u001b[1;33m\u001b[0m\u001b[1;33m\u001b[0m\u001b[0m\n",
      "\u001b[1;32mc:\\users\\dtman\\appdata\\local\\programs\\python\\python37-32\\lib\\site-packages\\tweepy\\streaming.py\u001b[0m in \u001b[0;36mread_line\u001b[1;34m(self, sep)\u001b[0m\n\u001b[0;32m    198\u001b[0m             \u001b[1;32melse\u001b[0m\u001b[1;33m:\u001b[0m\u001b[1;33m\u001b[0m\u001b[1;33m\u001b[0m\u001b[0m\n\u001b[0;32m    199\u001b[0m                 \u001b[0mstart\u001b[0m \u001b[1;33m=\u001b[0m \u001b[0mlen\u001b[0m\u001b[1;33m(\u001b[0m\u001b[0mself\u001b[0m\u001b[1;33m.\u001b[0m\u001b[0m_buffer\u001b[0m\u001b[1;33m)\u001b[0m\u001b[1;33m\u001b[0m\u001b[1;33m\u001b[0m\u001b[0m\n\u001b[1;32m--> 200\u001b[1;33m             \u001b[0mself\u001b[0m\u001b[1;33m.\u001b[0m\u001b[0m_buffer\u001b[0m \u001b[1;33m+=\u001b[0m \u001b[0mself\u001b[0m\u001b[1;33m.\u001b[0m\u001b[0m_stream\u001b[0m\u001b[1;33m.\u001b[0m\u001b[0mread\u001b[0m\u001b[1;33m(\u001b[0m\u001b[0mself\u001b[0m\u001b[1;33m.\u001b[0m\u001b[0m_chunk_size\u001b[0m\u001b[1;33m)\u001b[0m\u001b[1;33m\u001b[0m\u001b[1;33m\u001b[0m\u001b[0m\n\u001b[0m\u001b[0;32m    201\u001b[0m         \u001b[1;32mreturn\u001b[0m \u001b[0msix\u001b[0m\u001b[1;33m.\u001b[0m\u001b[0mb\u001b[0m\u001b[1;33m(\u001b[0m\u001b[1;34m''\u001b[0m\u001b[1;33m)\u001b[0m\u001b[1;33m\u001b[0m\u001b[1;33m\u001b[0m\u001b[0m\n\u001b[0;32m    202\u001b[0m \u001b[1;33m\u001b[0m\u001b[0m\n",
      "\u001b[1;32mc:\\users\\dtman\\appdata\\local\\programs\\python\\python37-32\\lib\\site-packages\\urllib3\\response.py\u001b[0m in \u001b[0;36mread\u001b[1;34m(self, amt, decode_content, cache_content)\u001b[0m\n\u001b[0;32m    477\u001b[0m             \u001b[1;32melse\u001b[0m\u001b[1;33m:\u001b[0m\u001b[1;33m\u001b[0m\u001b[1;33m\u001b[0m\u001b[0m\n\u001b[0;32m    478\u001b[0m                 \u001b[0mcache_content\u001b[0m \u001b[1;33m=\u001b[0m \u001b[1;32mFalse\u001b[0m\u001b[1;33m\u001b[0m\u001b[1;33m\u001b[0m\u001b[0m\n\u001b[1;32m--> 479\u001b[1;33m                 \u001b[0mdata\u001b[0m \u001b[1;33m=\u001b[0m \u001b[0mself\u001b[0m\u001b[1;33m.\u001b[0m\u001b[0m_fp\u001b[0m\u001b[1;33m.\u001b[0m\u001b[0mread\u001b[0m\u001b[1;33m(\u001b[0m\u001b[0mamt\u001b[0m\u001b[1;33m)\u001b[0m\u001b[1;33m\u001b[0m\u001b[1;33m\u001b[0m\u001b[0m\n\u001b[0m\u001b[0;32m    480\u001b[0m                 \u001b[1;32mif\u001b[0m \u001b[0mamt\u001b[0m \u001b[1;33m!=\u001b[0m \u001b[1;36m0\u001b[0m \u001b[1;32mand\u001b[0m \u001b[1;32mnot\u001b[0m \u001b[0mdata\u001b[0m\u001b[1;33m:\u001b[0m  \u001b[1;31m# Platform-specific: Buggy versions of Python.\u001b[0m\u001b[1;33m\u001b[0m\u001b[1;33m\u001b[0m\u001b[0m\n\u001b[0;32m    481\u001b[0m                     \u001b[1;31m# Close the connection when no data is returned\u001b[0m\u001b[1;33m\u001b[0m\u001b[1;33m\u001b[0m\u001b[1;33m\u001b[0m\u001b[0m\n",
      "\u001b[1;32mc:\\users\\dtman\\appdata\\local\\programs\\python\\python37-32\\lib\\http\\client.py\u001b[0m in \u001b[0;36mread\u001b[1;34m(self, amt)\u001b[0m\n\u001b[0;32m    455\u001b[0m             \u001b[1;31m# Amount is given, implement using readinto\u001b[0m\u001b[1;33m\u001b[0m\u001b[1;33m\u001b[0m\u001b[1;33m\u001b[0m\u001b[0m\n\u001b[0;32m    456\u001b[0m             \u001b[0mb\u001b[0m \u001b[1;33m=\u001b[0m \u001b[0mbytearray\u001b[0m\u001b[1;33m(\u001b[0m\u001b[0mamt\u001b[0m\u001b[1;33m)\u001b[0m\u001b[1;33m\u001b[0m\u001b[1;33m\u001b[0m\u001b[0m\n\u001b[1;32m--> 457\u001b[1;33m             \u001b[0mn\u001b[0m \u001b[1;33m=\u001b[0m \u001b[0mself\u001b[0m\u001b[1;33m.\u001b[0m\u001b[0mreadinto\u001b[0m\u001b[1;33m(\u001b[0m\u001b[0mb\u001b[0m\u001b[1;33m)\u001b[0m\u001b[1;33m\u001b[0m\u001b[1;33m\u001b[0m\u001b[0m\n\u001b[0m\u001b[0;32m    458\u001b[0m             \u001b[1;32mreturn\u001b[0m \u001b[0mmemoryview\u001b[0m\u001b[1;33m(\u001b[0m\u001b[0mb\u001b[0m\u001b[1;33m)\u001b[0m\u001b[1;33m[\u001b[0m\u001b[1;33m:\u001b[0m\u001b[0mn\u001b[0m\u001b[1;33m]\u001b[0m\u001b[1;33m.\u001b[0m\u001b[0mtobytes\u001b[0m\u001b[1;33m(\u001b[0m\u001b[1;33m)\u001b[0m\u001b[1;33m\u001b[0m\u001b[1;33m\u001b[0m\u001b[0m\n\u001b[0;32m    459\u001b[0m         \u001b[1;32melse\u001b[0m\u001b[1;33m:\u001b[0m\u001b[1;33m\u001b[0m\u001b[1;33m\u001b[0m\u001b[0m\n",
      "\u001b[1;32mc:\\users\\dtman\\appdata\\local\\programs\\python\\python37-32\\lib\\http\\client.py\u001b[0m in \u001b[0;36mreadinto\u001b[1;34m(self, b)\u001b[0m\n\u001b[0;32m    489\u001b[0m \u001b[1;33m\u001b[0m\u001b[0m\n\u001b[0;32m    490\u001b[0m         \u001b[1;32mif\u001b[0m \u001b[0mself\u001b[0m\u001b[1;33m.\u001b[0m\u001b[0mchunked\u001b[0m\u001b[1;33m:\u001b[0m\u001b[1;33m\u001b[0m\u001b[1;33m\u001b[0m\u001b[0m\n\u001b[1;32m--> 491\u001b[1;33m             \u001b[1;32mreturn\u001b[0m \u001b[0mself\u001b[0m\u001b[1;33m.\u001b[0m\u001b[0m_readinto_chunked\u001b[0m\u001b[1;33m(\u001b[0m\u001b[0mb\u001b[0m\u001b[1;33m)\u001b[0m\u001b[1;33m\u001b[0m\u001b[1;33m\u001b[0m\u001b[0m\n\u001b[0m\u001b[0;32m    492\u001b[0m \u001b[1;33m\u001b[0m\u001b[0m\n\u001b[0;32m    493\u001b[0m         \u001b[1;32mif\u001b[0m \u001b[0mself\u001b[0m\u001b[1;33m.\u001b[0m\u001b[0mlength\u001b[0m \u001b[1;32mis\u001b[0m \u001b[1;32mnot\u001b[0m \u001b[1;32mNone\u001b[0m\u001b[1;33m:\u001b[0m\u001b[1;33m\u001b[0m\u001b[1;33m\u001b[0m\u001b[0m\n",
      "\u001b[1;32mc:\\users\\dtman\\appdata\\local\\programs\\python\\python37-32\\lib\\http\\client.py\u001b[0m in \u001b[0;36m_readinto_chunked\u001b[1;34m(self, b)\u001b[0m\n\u001b[0;32m    584\u001b[0m         \u001b[1;32mtry\u001b[0m\u001b[1;33m:\u001b[0m\u001b[1;33m\u001b[0m\u001b[1;33m\u001b[0m\u001b[0m\n\u001b[0;32m    585\u001b[0m             \u001b[1;32mwhile\u001b[0m \u001b[1;32mTrue\u001b[0m\u001b[1;33m:\u001b[0m\u001b[1;33m\u001b[0m\u001b[1;33m\u001b[0m\u001b[0m\n\u001b[1;32m--> 586\u001b[1;33m                 \u001b[0mchunk_left\u001b[0m \u001b[1;33m=\u001b[0m \u001b[0mself\u001b[0m\u001b[1;33m.\u001b[0m\u001b[0m_get_chunk_left\u001b[0m\u001b[1;33m(\u001b[0m\u001b[1;33m)\u001b[0m\u001b[1;33m\u001b[0m\u001b[1;33m\u001b[0m\u001b[0m\n\u001b[0m\u001b[0;32m    587\u001b[0m                 \u001b[1;32mif\u001b[0m \u001b[0mchunk_left\u001b[0m \u001b[1;32mis\u001b[0m \u001b[1;32mNone\u001b[0m\u001b[1;33m:\u001b[0m\u001b[1;33m\u001b[0m\u001b[1;33m\u001b[0m\u001b[0m\n\u001b[0;32m    588\u001b[0m                     \u001b[1;32mreturn\u001b[0m \u001b[0mtotal_bytes\u001b[0m\u001b[1;33m\u001b[0m\u001b[1;33m\u001b[0m\u001b[0m\n",
      "\u001b[1;32mc:\\users\\dtman\\appdata\\local\\programs\\python\\python37-32\\lib\\http\\client.py\u001b[0m in \u001b[0;36m_get_chunk_left\u001b[1;34m(self)\u001b[0m\n\u001b[0;32m    552\u001b[0m                 \u001b[0mself\u001b[0m\u001b[1;33m.\u001b[0m\u001b[0m_safe_read\u001b[0m\u001b[1;33m(\u001b[0m\u001b[1;36m2\u001b[0m\u001b[1;33m)\u001b[0m  \u001b[1;31m# toss the CRLF at the end of the chunk\u001b[0m\u001b[1;33m\u001b[0m\u001b[1;33m\u001b[0m\u001b[0m\n\u001b[0;32m    553\u001b[0m             \u001b[1;32mtry\u001b[0m\u001b[1;33m:\u001b[0m\u001b[1;33m\u001b[0m\u001b[1;33m\u001b[0m\u001b[0m\n\u001b[1;32m--> 554\u001b[1;33m                 \u001b[0mchunk_left\u001b[0m \u001b[1;33m=\u001b[0m \u001b[0mself\u001b[0m\u001b[1;33m.\u001b[0m\u001b[0m_read_next_chunk_size\u001b[0m\u001b[1;33m(\u001b[0m\u001b[1;33m)\u001b[0m\u001b[1;33m\u001b[0m\u001b[1;33m\u001b[0m\u001b[0m\n\u001b[0m\u001b[0;32m    555\u001b[0m             \u001b[1;32mexcept\u001b[0m \u001b[0mValueError\u001b[0m\u001b[1;33m:\u001b[0m\u001b[1;33m\u001b[0m\u001b[1;33m\u001b[0m\u001b[0m\n\u001b[0;32m    556\u001b[0m                 \u001b[1;32mraise\u001b[0m \u001b[0mIncompleteRead\u001b[0m\u001b[1;33m(\u001b[0m\u001b[1;34mb''\u001b[0m\u001b[1;33m)\u001b[0m\u001b[1;33m\u001b[0m\u001b[1;33m\u001b[0m\u001b[0m\n",
      "\u001b[1;32mc:\\users\\dtman\\appdata\\local\\programs\\python\\python37-32\\lib\\http\\client.py\u001b[0m in \u001b[0;36m_read_next_chunk_size\u001b[1;34m(self)\u001b[0m\n\u001b[0;32m    512\u001b[0m     \u001b[1;32mdef\u001b[0m \u001b[0m_read_next_chunk_size\u001b[0m\u001b[1;33m(\u001b[0m\u001b[0mself\u001b[0m\u001b[1;33m)\u001b[0m\u001b[1;33m:\u001b[0m\u001b[1;33m\u001b[0m\u001b[1;33m\u001b[0m\u001b[0m\n\u001b[0;32m    513\u001b[0m         \u001b[1;31m# Read the next chunk size from the file\u001b[0m\u001b[1;33m\u001b[0m\u001b[1;33m\u001b[0m\u001b[1;33m\u001b[0m\u001b[0m\n\u001b[1;32m--> 514\u001b[1;33m         \u001b[0mline\u001b[0m \u001b[1;33m=\u001b[0m \u001b[0mself\u001b[0m\u001b[1;33m.\u001b[0m\u001b[0mfp\u001b[0m\u001b[1;33m.\u001b[0m\u001b[0mreadline\u001b[0m\u001b[1;33m(\u001b[0m\u001b[0m_MAXLINE\u001b[0m \u001b[1;33m+\u001b[0m \u001b[1;36m1\u001b[0m\u001b[1;33m)\u001b[0m\u001b[1;33m\u001b[0m\u001b[1;33m\u001b[0m\u001b[0m\n\u001b[0m\u001b[0;32m    515\u001b[0m         \u001b[1;32mif\u001b[0m \u001b[0mlen\u001b[0m\u001b[1;33m(\u001b[0m\u001b[0mline\u001b[0m\u001b[1;33m)\u001b[0m \u001b[1;33m>\u001b[0m \u001b[0m_MAXLINE\u001b[0m\u001b[1;33m:\u001b[0m\u001b[1;33m\u001b[0m\u001b[1;33m\u001b[0m\u001b[0m\n\u001b[0;32m    516\u001b[0m             \u001b[1;32mraise\u001b[0m \u001b[0mLineTooLong\u001b[0m\u001b[1;33m(\u001b[0m\u001b[1;34m\"chunk size\"\u001b[0m\u001b[1;33m)\u001b[0m\u001b[1;33m\u001b[0m\u001b[1;33m\u001b[0m\u001b[0m\n",
      "\u001b[1;32mc:\\users\\dtman\\appdata\\local\\programs\\python\\python37-32\\lib\\socket.py\u001b[0m in \u001b[0;36mreadinto\u001b[1;34m(self, b)\u001b[0m\n\u001b[0;32m    587\u001b[0m         \u001b[1;32mwhile\u001b[0m \u001b[1;32mTrue\u001b[0m\u001b[1;33m:\u001b[0m\u001b[1;33m\u001b[0m\u001b[1;33m\u001b[0m\u001b[0m\n\u001b[0;32m    588\u001b[0m             \u001b[1;32mtry\u001b[0m\u001b[1;33m:\u001b[0m\u001b[1;33m\u001b[0m\u001b[1;33m\u001b[0m\u001b[0m\n\u001b[1;32m--> 589\u001b[1;33m                 \u001b[1;32mreturn\u001b[0m \u001b[0mself\u001b[0m\u001b[1;33m.\u001b[0m\u001b[0m_sock\u001b[0m\u001b[1;33m.\u001b[0m\u001b[0mrecv_into\u001b[0m\u001b[1;33m(\u001b[0m\u001b[0mb\u001b[0m\u001b[1;33m)\u001b[0m\u001b[1;33m\u001b[0m\u001b[1;33m\u001b[0m\u001b[0m\n\u001b[0m\u001b[0;32m    590\u001b[0m             \u001b[1;32mexcept\u001b[0m \u001b[0mtimeout\u001b[0m\u001b[1;33m:\u001b[0m\u001b[1;33m\u001b[0m\u001b[1;33m\u001b[0m\u001b[0m\n\u001b[0;32m    591\u001b[0m                 \u001b[0mself\u001b[0m\u001b[1;33m.\u001b[0m\u001b[0m_timeout_occurred\u001b[0m \u001b[1;33m=\u001b[0m \u001b[1;32mTrue\u001b[0m\u001b[1;33m\u001b[0m\u001b[1;33m\u001b[0m\u001b[0m\n",
      "\u001b[1;32mc:\\users\\dtman\\appdata\\local\\programs\\python\\python37-32\\lib\\ssl.py\u001b[0m in \u001b[0;36mrecv_into\u001b[1;34m(self, buffer, nbytes, flags)\u001b[0m\n\u001b[0;32m   1069\u001b[0m                   \u001b[1;34m\"non-zero flags not allowed in calls to recv_into() on %s\"\u001b[0m \u001b[1;33m%\u001b[0m\u001b[1;33m\u001b[0m\u001b[1;33m\u001b[0m\u001b[0m\n\u001b[0;32m   1070\u001b[0m                   self.__class__)\n\u001b[1;32m-> 1071\u001b[1;33m             \u001b[1;32mreturn\u001b[0m \u001b[0mself\u001b[0m\u001b[1;33m.\u001b[0m\u001b[0mread\u001b[0m\u001b[1;33m(\u001b[0m\u001b[0mnbytes\u001b[0m\u001b[1;33m,\u001b[0m \u001b[0mbuffer\u001b[0m\u001b[1;33m)\u001b[0m\u001b[1;33m\u001b[0m\u001b[1;33m\u001b[0m\u001b[0m\n\u001b[0m\u001b[0;32m   1072\u001b[0m         \u001b[1;32melse\u001b[0m\u001b[1;33m:\u001b[0m\u001b[1;33m\u001b[0m\u001b[1;33m\u001b[0m\u001b[0m\n\u001b[0;32m   1073\u001b[0m             \u001b[1;32mreturn\u001b[0m \u001b[0msuper\u001b[0m\u001b[1;33m(\u001b[0m\u001b[1;33m)\u001b[0m\u001b[1;33m.\u001b[0m\u001b[0mrecv_into\u001b[0m\u001b[1;33m(\u001b[0m\u001b[0mbuffer\u001b[0m\u001b[1;33m,\u001b[0m \u001b[0mnbytes\u001b[0m\u001b[1;33m,\u001b[0m \u001b[0mflags\u001b[0m\u001b[1;33m)\u001b[0m\u001b[1;33m\u001b[0m\u001b[1;33m\u001b[0m\u001b[0m\n",
      "\u001b[1;32mc:\\users\\dtman\\appdata\\local\\programs\\python\\python37-32\\lib\\ssl.py\u001b[0m in \u001b[0;36mread\u001b[1;34m(self, len, buffer)\u001b[0m\n\u001b[0;32m    927\u001b[0m         \u001b[1;32mtry\u001b[0m\u001b[1;33m:\u001b[0m\u001b[1;33m\u001b[0m\u001b[1;33m\u001b[0m\u001b[0m\n\u001b[0;32m    928\u001b[0m             \u001b[1;32mif\u001b[0m \u001b[0mbuffer\u001b[0m \u001b[1;32mis\u001b[0m \u001b[1;32mnot\u001b[0m \u001b[1;32mNone\u001b[0m\u001b[1;33m:\u001b[0m\u001b[1;33m\u001b[0m\u001b[1;33m\u001b[0m\u001b[0m\n\u001b[1;32m--> 929\u001b[1;33m                 \u001b[1;32mreturn\u001b[0m \u001b[0mself\u001b[0m\u001b[1;33m.\u001b[0m\u001b[0m_sslobj\u001b[0m\u001b[1;33m.\u001b[0m\u001b[0mread\u001b[0m\u001b[1;33m(\u001b[0m\u001b[0mlen\u001b[0m\u001b[1;33m,\u001b[0m \u001b[0mbuffer\u001b[0m\u001b[1;33m)\u001b[0m\u001b[1;33m\u001b[0m\u001b[1;33m\u001b[0m\u001b[0m\n\u001b[0m\u001b[0;32m    930\u001b[0m             \u001b[1;32melse\u001b[0m\u001b[1;33m:\u001b[0m\u001b[1;33m\u001b[0m\u001b[1;33m\u001b[0m\u001b[0m\n\u001b[0;32m    931\u001b[0m                 \u001b[1;32mreturn\u001b[0m \u001b[0mself\u001b[0m\u001b[1;33m.\u001b[0m\u001b[0m_sslobj\u001b[0m\u001b[1;33m.\u001b[0m\u001b[0mread\u001b[0m\u001b[1;33m(\u001b[0m\u001b[0mlen\u001b[0m\u001b[1;33m)\u001b[0m\u001b[1;33m\u001b[0m\u001b[1;33m\u001b[0m\u001b[0m\n",
      "\u001b[1;31mKeyboardInterrupt\u001b[0m: "
     ]
    }
   ],
   "source": [
    "from tweepy import Stream\n",
    "from tweepy.streaming import StreamListener\n",
    " \n",
    "class MyListener(StreamListener):\n",
    " \n",
    "    def on_data(self, data):\n",
    "        try:\n",
    "            with open('python.json', 'a') as f:\n",
    "                f.write(data)\n",
    "                return True\n",
    "        except BaseException as e:\n",
    "            print(\"Error on_data: %s\" % str(e))\n",
    "        return True\n",
    " \n",
    "    def on_error(self, status):\n",
    "        print(status)\n",
    "        return True\n",
    "twitter_stream = Stream(auth, MyListener())\n",
    "twitter_stream.filter(track=['#python'])"
   ]
  },
  {
   "cell_type": "code",
   "execution_count": null,
   "metadata": {},
   "outputs": [],
   "source": [
    "#Part 2\n",
    "#After storing tweets as a JSON\n",
    "import json\n",
    "\n",
    "with open('mytweets.json', 'r') as f:\n",
    "    line = f.readline() # read only the first tweet/line\n",
    "    tweet = json.loads(line) # load it as Python dict\n",
    "    print(json.dumps(tweet, indent=4)) # pretty-print"
   ]
  },
  {
   "cell_type": "code",
   "execution_count": null,
   "metadata": {},
   "outputs": [],
   "source": [
    "#Tokenize\n",
    "from nltk.tokenize import word_tokenize\n",
    " \n",
    "tweet = 'RT @marcobonzanini: just an example! :D http://example.com #NLP'\n",
    "print(word_tokenize(tweet))\n",
    "# ['RT', '@', 'marcobonzanini', ':', 'just', 'an', 'example', '!', ':', 'D', 'http', ':', '//example.com', '#', 'NLP']"
   ]
  },
  {
   "cell_type": "code",
   "execution_count": null,
   "metadata": {},
   "outputs": [],
   "source": [
    "#Text Preprocessing\n",
    "import re\n",
    " \n",
    "emoticons_str = r\"\"\"\n",
    "    (?:\n",
    "        [:=;] # Eyes\n",
    "        [oO\\-]? # Nose (optional)\n",
    "        [D\\)\\]\\(\\]/\\\\OpP] # Mouth\n",
    "    )\"\"\"\n",
    " \n",
    "regex_str = [\n",
    "    emoticons_str,\n",
    "    r'<[^>]+>', # HTML tags\n",
    "    r'(?:@[\\w_]+)', # @-mentions\n",
    "    r\"(?:\\#+[\\w_]+[\\w\\'_\\-]*[\\w_]+)\", # hash-tags\n",
    "    r'http[s]?://(?:[a-z]|[0-9]|[$-_@.&amp;+]|[!*\\(\\),]|(?:%[0-9a-f][0-9a-f]))+', # URLs\n",
    " \n",
    "    r'(?:(?:\\d+,?)+(?:\\.?\\d+)?)', # numbers\n",
    "    r\"(?:[a-z][a-z'\\-_]+[a-z])\", # words with - and '\n",
    "    r'(?:[\\w_]+)', # other words\n",
    "    r'(?:\\S)' # anything else\n",
    "]\n",
    "    \n",
    "tokens_re = re.compile(r'('+'|'.join(regex_str)+')', re.VERBOSE | re.IGNORECASE)\n",
    "emoticon_re = re.compile(r'^'+emoticons_str+'$', re.VERBOSE | re.IGNORECASE)\n",
    " \n",
    "def tokenize(s):\n",
    "    return tokens_re.findall(s)\n",
    " \n",
    "def preprocess(s, lowercase=False):\n",
    "    tokens = tokenize(s)\n",
    "    if lowercase:\n",
    "        tokens = [token if emoticon_re.search(token) else token.lower() for token in tokens]\n",
    "    return tokens\n",
    " \n",
    "tweet = 'RT @marcobonzanini: just an example! :D http://example.com #NLP'\n",
    "print(preprocess(tweet))\n",
    "# ['RT', '@marcobonzanini', ':', 'just', 'an', 'example', '!', ':D', 'http://example.com', '#NLP']"
   ]
  },
  {
   "cell_type": "code",
   "execution_count": null,
   "metadata": {},
   "outputs": [],
   "source": [
    "#process all the tweets do something needs to be defined\n",
    "def do_something_else(token):\n",
    "    print(json.dumps(token))\n",
    "\n",
    "with open('mytweets.json', 'r') as f:\n",
    "    for line in f:\n",
    "        tweet = json.loads(line)\n",
    "        tokens = preprocess(tweet['text'])\n",
    "        do_something_else(tokens)"
   ]
  },
  {
   "cell_type": "code",
   "execution_count": null,
   "metadata": {},
   "outputs": [],
   "source": [
    "#Part 3 count terms-basic, first iteration\n",
    "import operator \n",
    "from collections import Counter\n",
    " \n",
    "fname = 'mytweets.json'\n",
    "with open(fname, 'r') as f:\n",
    "    \n",
    "    count_all = Counter()\n",
    "    for line in f:\n",
    "        tweet = json.loads(line)\n",
    "        # Create a list with all the terms\n",
    "        terms_all = [term for term in preprocess(tweet['text'])]\n",
    "        # Update the counter\n",
    "        count_all.update(terms_all)\n",
    "    # Print the first 5 most frequent words\n",
    "    print(count_all.most_common(5))"
   ]
  },
  {
   "cell_type": "code",
   "execution_count": null,
   "metadata": {},
   "outputs": [],
   "source": [
    "#Find stop words\n",
    "from nltk.corpus import stopwords\n",
    "import string\n",
    " \n",
    "punctuation = list(string.punctuation)\n",
    "stop = stopwords.words('english') + punctuation + ['rt', 'via']"
   ]
  },
  {
   "cell_type": "code",
   "execution_count": null,
   "metadata": {},
   "outputs": [],
   "source": [
    "#Same as two cells up but with terms_stop instead of terms_all \n",
    "fname = 'mytweets.json'\n",
    "with open(fname, 'r') as f:\n",
    "    \n",
    "    count_all = Counter()\n",
    "    for line in f:\n",
    "        tweet = json.loads(line)\n",
    "        # Create a list with all the terms\n",
    "        terms_stop = [term for term in preprocess(tweet['text']) if term not in stop]        # Update the counter\n",
    "        count_all.update(terms_stop)\n",
    "    # Print the first 5 most frequent words\n",
    "    print(count_all.most_common(5))from collections import Counter"
   ]
  },
  {
   "cell_type": "code",
   "execution_count": null,
   "metadata": {},
   "outputs": [],
   "source": [
    " #Customize terms and tokens\n",
    "fname = 'mytweets.json'\n",
    "with open(fname, 'r') as f:\n",
    "    \n",
    "    count_all = Counter()\n",
    "    for line in f:\n",
    "        tweet = json.loads(line)\n",
    "        # Create a list with all the terms\n",
    "        terms_stop = [term for term in preprocess(tweet['text']) if term not in stop]        # Update the counter\n",
    "        count_all.update(terms_stop)\n",
    "    # Print the first 5 most frequent words\n",
    "    print(count_all.most_common(5))\n",
    "    # Count terms only once, equivalent to Document Frequency\n",
    "terms_single = set(terms_all)\n",
    "# Count hashtags only\n",
    "terms_hash = [term for term in preprocess(tweet['text']) \n",
    "              if term.startswith('#')]\n",
    "# Count terms only (no hashtags, no mentions)\n",
    "terms_only = [term for term in preprocess(tweet['text']) \n",
    "              if term not in stop and\n",
    "              not term.startswith(('#', '@'))] \n",
    "              # mind the ((double brackets))\n",
    "              # startswith() takes a tuple (not a list) if \n",
    "              # we pass a list of inputs"
   ]
  },
  {
   "cell_type": "code",
   "execution_count": null,
   "metadata": {},
   "outputs": [],
   "source": [
    "#refactor of co-occurence matrix\n",
    "from collections import defaultdict\n",
    "# remember to include the other import from the previous post\n",
    " \n",
    "com = defaultdict(lambda : defaultdict(int))\n",
    " \n",
    "# f is the file pointer to the JSON data set\n",
    "for line in f: \n",
    "    tweet = json.loads(line)\n",
    "    terms_only = [term for term in preprocess(tweet['text']) \n",
    "                  if term not in stop \n",
    "                  and not term.startswith(('#', '@'))]\n",
    " \n",
    "    # Build co-occurrence matrix\n",
    "    for i in range(len(terms_only)-1):            \n",
    "        for j in range(i+1, len(terms_only)):\n",
    "            w1, w2 = sorted([terms_only[i], terms_only[j]])                \n",
    "            if w1 != w2:\n",
    "                com[w1][w2] += 1"
   ]
  },
  {
   "cell_type": "code",
   "execution_count": null,
   "metadata": {},
   "outputs": [],
   "source": [
    "com_max = []\n",
    "# For each term, look for the most common co-occurrent terms\n",
    "for t1 in com:\n",
    "    t1_max_terms = sorted(com[t1].items(), key=operator.itemgetter(1), reverse=True)[:5]\n",
    "    for t2, t2_count in t1_max_terms:\n",
    "        com_max.append(((t1, t2), t2_count))\n",
    "# Get the most frequent co-occurrences\n",
    "terms_max = sorted(com_max, key=operator.itemgetter(1), reverse=True)\n",
    "print(terms_max[:5])"
   ]
  },
  {
   "cell_type": "code",
   "execution_count": null,
   "metadata": {},
   "outputs": [],
   "source": [
    "search_word = sys.argv[1] # pass a term as a command-line argument\n",
    "count_search = Counter()\n",
    "for line in f:\n",
    "    tweet = json.loads(line)\n",
    "    terms_only = [term for term in preprocess(tweet['text']) \n",
    "                  if term not in stop \n",
    "                  and not term.startswith(('#', '@'))]\n",
    "    if search_word in terms_only:\n",
    "        count_search.update(terms_only)\n",
    "print(\"Co-occurrence for %s:\" % search_word)\n",
    "print(count_search.most_common(20))"
   ]
  },
  {
   "cell_type": "code",
   "execution_count": null,
   "metadata": {},
   "outputs": [],
   "source": [
    "#Part 5 deals with Vincent, which is deprecated. Will therefore not copy"
   ]
  },
  {
   "cell_type": "code",
   "execution_count": null,
   "metadata": {},
   "outputs": [],
   "source": [
    "import pandas\n",
    "\n",
    " \n",
    "dates_ITAvWAL = []\n",
    "# f is the file pointer to the JSON data set\n",
    "for line in f:\n",
    "    tweet = json.loads(line)\n",
    "    # let's focus on hashtags only at the moment\n",
    "    terms_hash = [term for term in preprocess(tweet['text']) if term.startswith('#')]\n",
    "    # track when the hashtag is mentioned\n",
    "    if '#itavwal' in terms_hash:\n",
    "        dates_ITAvWAL.append(tweet['created_at'])\n",
    " \n",
    "# a list of \"1\" to count the hashtags\n",
    "ones = [1]*len(dates_ITAvWAL)\n",
    "# the index of the series\n",
    "idx = pandas.DatetimeIndex(dates_ITAvWAL)\n",
    "# the actual series (at series of 1s for the moment)\n",
    "ITAvWAL = pandas.Series(ones, index=idx)\n",
    " \n",
    "# Resampling / bucketing\n",
    "per_minute = ITAvWAL.resample('1Min', how='sum').fillna(0)"
   ]
  },
  {
   "cell_type": "code",
   "execution_count": null,
   "metadata": {},
   "outputs": [],
   "source": [
    "#Positive and Negative Terms\n",
    "positive_vocab = [\n",
    "    'good', 'nice', 'great', 'awesome', 'outstanding',\n",
    "    'fantastic', 'terrific', ':)', ':-)', 'like', 'love',\n",
    "    # shall we also include game-specific terms?\n",
    "    # 'triumph', 'triumphal', 'triumphant', 'victory', etc.\n",
    "]\n",
    "negative_vocab = [\n",
    "    'bad', 'terrible', 'crap', 'useless', 'hate', ':(', ':-(',\n",
    "    # 'defeat', etc.\n",
    "]"
   ]
  },
  {
   "cell_type": "code",
   "execution_count": null,
   "metadata": {},
   "outputs": [],
   "source": [
    "pmi = defaultdict(lambda : defaultdict(int))\n",
    "for t1 in p_t:\n",
    "    for t2 in com[t1]:\n",
    "        denom = p_t[t1] * p_t[t2]\n",
    "        pmi[t1][t2] = math.log2(p_t_com[t1][t2] / denom)\n",
    " \n",
    "semantic_orientation = {}\n",
    "for term, n in p_t.items():\n",
    "    positive_assoc = sum(pmi[term][tx] for tx in positive_vocab)\n",
    "    negative_assoc = sum(pmi[term][tx] for tx in negative_vocab)\n",
    "    semantic_orientation[term] = positive_assoc - negative_assoc"
   ]
  },
  {
   "cell_type": "code",
   "execution_count": null,
   "metadata": {},
   "outputs": [],
   "source": [
    "semantic_sorted = sorted(semantic_orientation.items(), \n",
    "                         key=operator.itemgetter(1), \n",
    "                         reverse=True)\n",
    "top_pos = semantic_sorted[:10]\n",
    "top_neg = semantic_sorted[-10:]\n",
    " \n",
    "print(top_pos)\n",
    "print(top_neg)\n",
    "print(\"ITA v WAL: %f\" % semantic_orientation['#itavwal'])\n",
    "print(\"SCO v IRE: %f\" % semantic_orientation['#scovire'])\n",
    "print(\"ENG v FRA: %f\" % semantic_orientation['#engvfra'])\n",
    "print(\"#ITA: %f\" % semantic_orientation['#ita'])\n",
    "print(\"#FRA: %f\" % semantic_orientation['#fra'])\n",
    "print(\"#SCO: %f\" % semantic_orientation['#sco'])\n",
    "print(\"#ENG: %f\" % semantic_orientation['#eng'])\n",
    "print(\"#WAL: %f\" % semantic_orientation['#wal'])\n",
    "print(\"#IRE: %f\" % semantic_orientation['#ire'])"
   ]
  },
  {
   "cell_type": "code",
   "execution_count": null,
   "metadata": {},
   "outputs": [],
   "source": [
    "# Tweets are stored in \"fname\"\n",
    "with open(fname, 'r') as f:\n",
    "    geo_data = {\n",
    "        \"type\": \"FeatureCollection\",\n",
    "        \"features\": []\n",
    "    }\n",
    "    for line in f:\n",
    "        tweet = json.loads(line)\n",
    "        if tweet['coordinates']:\n",
    "            geo_json_feature = {\n",
    "                \"type\": \"Feature\",\n",
    "                \"geometry\": tweet['coordinates'],\n",
    "                \"properties\": {\n",
    "                    \"text\": tweet['text'],\n",
    "                    \"created_at\": tweet['created_at']\n",
    "                }\n",
    "            }\n",
    "            geo_data['features'].append(geo_json_feature)\n",
    " \n",
    "# Save geo data\n",
    "with open('geo_data.json', 'w') as fout:\n",
    "    fout.write(json.dumps(geo_data, indent=4))"
   ]
  },
  {
   "cell_type": "code",
   "execution_count": null,
   "metadata": {},
   "outputs": [],
   "source": [
    "#Leaflet.js to be put in head of document. also seems to be for html stuff\n",
    "<link rel=\"stylesheet\" href=\"http://cdnjs.cloudflare.com/ajax/libs/leaflet/0.7.3/leaflet.css\" />\n",
    "<script src=\"http://cdnjs.cloudflare.com/ajax/libs/leaflet/0.7.3/leaflet.js\"></script>\n",
    "<script src=\"http://code.jquery.com/jquery-2.1.0.min.js\"></script>\n",
    "<!-- this goes in the <head> -->\n",
    "<style>\n",
    "#map {\n",
    "    height: 600px;\n",
    "}\n",
    "</style>\n",
    "<!-- this goes in the <body> -->\n",
    "<div id=\"map\"></div>"
   ]
  },
  {
   "cell_type": "code",
   "execution_count": null,
   "metadata": {},
   "outputs": [],
   "source": [
    "// Load the tile images from OpenStreetMap\n",
    "var mytiles = L.tileLayer('http://{s}.tile.osm.org/{z}/{x}/{y}.png', {\n",
    "    attribution: '&copy; <a href=\"http://osm.org/copyright\">OpenStreetMap</a> contributors'\n",
    "});\n",
    "// Initialise an empty map\n",
    "var map = L.map('map');\n",
    "// Read the GeoJSON data with jQuery, and create a circleMarker element for each tweet\n",
    "// Each tweet will be represented by a nice red dot\n",
    "$.getJSON(\"./geo_data.json\", function(data) {\n",
    "    var myStyle = {\n",
    "        radius: 2,\n",
    "        fillColor: \"red\",\n",
    "        color: \"red\",\n",
    "        weight: 1,\n",
    "        opacity: 1,\n",
    "        fillOpacity: 1\n",
    "    };\n",
    " \n",
    "    var geojson = L.geoJson(data, {\n",
    "        pointToLayer: function (feature, latlng) {\n",
    "            return L.circleMarker(latlng, myStyle);\n",
    "        }\n",
    "    });\n",
    "    geojson.addTo(map)\n",
    "});\n",
    "// Add the tiles to the map, and initialise the view in the middle of Europe\n",
    "map.addLayer(mytiles).setView([50.5, 5.0], 5);"
   ]
  }
 ],
 "metadata": {
  "kernelspec": {
   "display_name": "Python 3",
   "language": "python",
   "name": "python3"
  },
  "language_info": {
   "codemirror_mode": {
    "name": "ipython",
    "version": 3
   },
   "file_extension": ".py",
   "mimetype": "text/x-python",
   "name": "python",
   "nbconvert_exporter": "python",
   "pygments_lexer": "ipython3",
   "version": "3.7.4"
  }
 },
 "nbformat": 4,
 "nbformat_minor": 2
}
